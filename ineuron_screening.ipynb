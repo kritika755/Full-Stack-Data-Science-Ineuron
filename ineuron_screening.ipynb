{
 "cells": [
  {
   "cell_type": "code",
   "execution_count": 1,
   "id": "ec19af0d",
   "metadata": {},
   "outputs": [
    {
     "name": "stdout",
     "output_type": "stream",
     "text": [
      "Requirement already satisfied: pymysql in c:\\users\\hp\\anaconda3\\lib\\site-packages (1.0.2)\n",
      "Requirement already satisfied: ipython-sql in c:\\users\\hp\\anaconda3\\lib\\site-packages (0.4.0)\n",
      "Requirement already satisfied: ipython>=1.0 in c:\\users\\hp\\anaconda3\\lib\\site-packages (from ipython-sql) (7.29.0)\n",
      "Requirement already satisfied: sqlparse in c:\\users\\hp\\anaconda3\\lib\\site-packages (from ipython-sql) (0.4.2)\n",
      "Requirement already satisfied: six in c:\\users\\hp\\anaconda3\\lib\\site-packages (from ipython-sql) (1.16.0)\n",
      "Requirement already satisfied: ipython-genutils>=0.1.0 in c:\\users\\hp\\anaconda3\\lib\\site-packages (from ipython-sql) (0.2.0)\n",
      "Requirement already satisfied: prettytable<1 in c:\\users\\hp\\anaconda3\\lib\\site-packages (from ipython-sql) (0.7.2)\n",
      "Requirement already satisfied: sqlalchemy>=0.6.7 in c:\\users\\hp\\anaconda3\\lib\\site-packages (from ipython-sql) (1.4.22)\n",
      "Requirement already satisfied: colorama in c:\\users\\hp\\anaconda3\\lib\\site-packages (from ipython>=1.0->ipython-sql) (0.4.4)\n",
      "Requirement already satisfied: jedi>=0.16 in c:\\users\\hp\\anaconda3\\lib\\site-packages (from ipython>=1.0->ipython-sql) (0.18.0)\n",
      "Requirement already satisfied: pickleshare in c:\\users\\hp\\anaconda3\\lib\\site-packages (from ipython>=1.0->ipython-sql) (0.7.5)\n",
      "Requirement already satisfied: prompt-toolkit!=3.0.0,!=3.0.1,<3.1.0,>=2.0.0 in c:\\users\\hp\\anaconda3\\lib\\site-packages (from ipython>=1.0->ipython-sql) (3.0.20)\n",
      "Requirement already satisfied: pygments in c:\\users\\hp\\anaconda3\\lib\\site-packages (from ipython>=1.0->ipython-sql) (2.10.0)\n",
      "Requirement already satisfied: decorator in c:\\users\\hp\\anaconda3\\lib\\site-packages (from ipython>=1.0->ipython-sql) (5.1.0)\n",
      "Requirement already satisfied: setuptools>=18.5 in c:\\users\\hp\\anaconda3\\lib\\site-packages (from ipython>=1.0->ipython-sql) (58.0.4)\n",
      "Requirement already satisfied: traitlets>=4.2 in c:\\users\\hp\\anaconda3\\lib\\site-packages (from ipython>=1.0->ipython-sql) (5.1.0)\n",
      "Requirement already satisfied: matplotlib-inline in c:\\users\\hp\\anaconda3\\lib\\site-packages (from ipython>=1.0->ipython-sql) (0.1.2)\n",
      "Requirement already satisfied: backcall in c:\\users\\hp\\anaconda3\\lib\\site-packages (from ipython>=1.0->ipython-sql) (0.2.0)\n",
      "Requirement already satisfied: parso<0.9.0,>=0.8.0 in c:\\users\\hp\\anaconda3\\lib\\site-packages (from jedi>=0.16->ipython>=1.0->ipython-sql) (0.8.2)\n",
      "Requirement already satisfied: wcwidth in c:\\users\\hp\\anaconda3\\lib\\site-packages (from prompt-toolkit!=3.0.0,!=3.0.1,<3.1.0,>=2.0.0->ipython>=1.0->ipython-sql) (0.2.5)\n",
      "Requirement already satisfied: greenlet!=0.4.17 in c:\\users\\hp\\anaconda3\\lib\\site-packages (from sqlalchemy>=0.6.7->ipython-sql) (1.1.1)\n",
      "Requirement already satisfied: mysqlclient in c:\\users\\hp\\anaconda3\\lib\\site-packages (2.1.0)\n"
     ]
    }
   ],
   "source": [
    "!pip3 install pymysql\n",
    "!pip3 install ipython-sql\n",
    "!pip3 install mysqlclient"
   ]
  },
  {
   "cell_type": "code",
   "execution_count": 2,
   "id": "89ddd67b",
   "metadata": {},
   "outputs": [],
   "source": [
    "import pymysql\n",
    "import pandas as pd"
   ]
  },
  {
   "cell_type": "code",
   "execution_count": null,
   "id": "9eb3e530",
   "metadata": {},
   "outputs": [],
   "source": [
    "def connecting_database_creating_tables():\n",
    "    conn=pymysql.connect(host='localhost',port=int(3306),user='root',passwd='Kmaverick13@#755',db='INEURON')   \n",
    "    \n",
    "    cursor = conn.cursor()\n",
    "    \n",
    "    cursor.execute('''\n",
    "    drop TABLE transaction_tbl, user_table,bank_account_tbl \n",
    "    ''')\n",
    "    conn.commit()\n",
    "    \n",
    "    cursor.execute('''\n",
    "    CREATE TABLE TRANSACTION_TBL \n",
    "    ( TRANSATIONDATE DATE , \n",
    "    USERID INT ,\n",
    "    BANKACCOUNTNUMBER INT ,\n",
    "    WITHDRAWNAMOUNT INT); \n",
    "    ''')\n",
    " \n",
    "    \n",
    "    \n",
    "    cursor.EXECUTE('''\n",
    "    Create TABLE User_table\n",
    "    (UserId INT,\n",
    "    UserName VARCHAR(255),\n",
    "    UserDob DATE,\n",
    "    USEREMAIL VARCHAR(255) ,\n",
    "    USERCREATEDATE DATE);\n",
    "    ''')\n",
    "  \n",
    "    cursor.EXECUTE('''\n",
    "    CREATE TABLE BANK_ACCOUNT_TABLE \n",
    "    (USERID INT, \n",
    "    BANKACCOUNTID INT,\n",
    "    BANKACCOUNTNUMBER INT,\n",
    "    ISUSERACTIVE CHAR, \n",
    "    AMOUNT INT);\n",
    "    ''')\n",
    "    \n",
    "    conn.commit()\n",
    "    \n",
    "connecting_database_creating_tables()"
   ]
  },
  {
   "cell_type": "code",
   "execution_count": null,
   "id": "cdb67dd4",
   "metadata": {},
   "outputs": [],
   "source": [
    "def inserting_initial_values():\n",
    "    conn=pymysql.connect(host='localhost',port=int(3306),user='root',passwd='Kmaverick13@#755',db='INEURON')   \n",
    "    \n",
    "    cursor = conn.cursor()\n",
    "    \n",
    "    cursor.execute('''\n",
    "    Insert into user_table values(1001,'kritika',01-08-1997,'kritiikaaa@gmail.com',08-06-2022);\n",
    "    insert into bank_account_table values(1001,123456789,1001123,'Y',10000);\t\n",
    "    INSERT INTO TRANSACTION_TBL  VALUES(08/06/2022,1001,1001123,500);\t   \n",
    "    ''')\n",
    "    conn.commit()\n",
    "\n",
    "inserting_initial_values()   "
   ]
  },
  {
   "cell_type": "code",
   "execution_count": null,
   "id": "0a14a002",
   "metadata": {},
   "outputs": [],
   "source": [
    "def account_balance(id):\n",
    "    conn=pymysql.connect(host='localhost',port=int(3306),user='root',passwd='Kmaverick13@#755',db='INEURON')   \n",
    "    cursor = conn.cursor()\n",
    "    \n",
    "    cursor.execute('''DELIMITER //\n",
    "    CREATE PROCEDURE CHECK_BALANCE (id int)\n",
    "    BEGIN\n",
    "    SELECT AMOUNT FROM BANK_ACCOUNT_TABLE WHERE USERID= id ;\n",
    "    END //\n",
    "\n",
    "    DELIMITER ;\n",
    "    \n",
    "    ''')\n",
    "    \n",
    "    cursor.execute(''' \n",
    "    CALL CHECK_BALANCE(id)\n",
    "    ''')\n",
    "    \n",
    "account_balance(1001)\n"
   ]
  },
  {
   "cell_type": "code",
   "execution_count": null,
   "id": "fa7bcbec",
   "metadata": {},
   "outputs": [],
   "source": [
    "def withdraw_amount(withdraw_amount,id):\n",
    "    conn=pymysql.connect(host='localhost',port=int(3306),user='root',passwd='Kmaverick13@#755',db='INEURON')   \n",
    "    cursor = conn.cursor()\n",
    "    \n",
    "    cursor.execute('''\n",
    "    \n",
    "    DELIMITER //\n",
    "        CREATE PROCEDURE WITHDRAW_AMOUNT3 (WITHDRAW_AMOUNT INT , ID int)\n",
    "        BEGIN\n",
    "        SELECT AMOUNT FROM BANK_ACCOUNT_TABLE WHERE USERID= ID ;\n",
    "\n",
    "        IF AMOUNT> WITHDRAW_AMOUNT+5000 THEN\n",
    "        UPDATE BANK_ACCOUNT_TABLE SET AMOUNT= (WITHDRAW_AMOUNT-AMOUNT) WHERE USERID=ID ;\n",
    "\n",
    "        END //\n",
    "\n",
    "    DELIMITER ;\n",
    "    \n",
    "    ''')\n",
    "cursor.execute(''' \n",
    "    call WITHDRAW_AMOUNT3(withraw_amount,id )\n",
    "''')\n",
    "\n",
    "withdraw_amount(2000,1001)"
   ]
  },
  {
   "cell_type": "code",
   "execution_count": null,
   "id": "5abca821",
   "metadata": {},
   "outputs": [],
   "source": [
    "def check_statement(from_date,to_date):\n",
    "    \n",
    "    conn=pymysql.connect(host='localhost',port=int(3306),user='root',passwd='Kmaverick13@#755',db='INEURON')   \n",
    "    cursor = conn.cursor()\n",
    "    \n",
    "    cursor.execute('''\n",
    "    select * from transaction_tbl where transationdate>from_date and transaction_date < to_date\n",
    "    ''')\n",
    "    \n",
    "check_statement('01-01-1900','02-02-2022')"
   ]
  }
 ],
 "metadata": {
  "kernelspec": {
   "display_name": "Python 3 (ipykernel)",
   "language": "python",
   "name": "python3"
  },
  "language_info": {
   "codemirror_mode": {
    "name": "ipython",
    "version": 3
   },
   "file_extension": ".py",
   "mimetype": "text/x-python",
   "name": "python",
   "nbconvert_exporter": "python",
   "pygments_lexer": "ipython3",
   "version": "3.9.7"
  }
 },
 "nbformat": 4,
 "nbformat_minor": 5
}
