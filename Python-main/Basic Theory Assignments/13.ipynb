{
 "cells": [
  {
   "cell_type": "markdown",
   "id": "e77213e4",
   "metadata": {},
   "source": [
    "1. What are some features Excel spreadsheets have that CSV spread-sheets don’t?"
   ]
  },
  {
   "cell_type": "markdown",
   "id": "8464fec2",
   "metadata": {},
   "source": [
    "CSV files cannot store other information like formatting while this comes standard in Excel\n",
    "CSV files can be opened with any text editor in windows while Excel files can't be opened with text editors."
   ]
  },
  {
   "cell_type": "markdown",
   "id": "1b8126f4",
   "metadata": {},
   "source": [
    "2. What do you pass to csv.reader() and csv.writer() to create reader and writer objects?\n",
    "\n",
    "Ans\n",
    "\n",
    "We will pass the file name (with path name if not i the same working directory) inside the parenthesis()."
   ]
  },
  {
   "cell_type": "markdown",
   "id": "92e36e91",
   "metadata": {},
   "source": [
    "3. What modes do File objects for reader and writer objects need to be opened in?\n",
    "\n",
    "Ans\n",
    "\n",
    "For read--> 'r'\n",
    "\n",
    "For write--> 'w'"
   ]
  },
  {
   "cell_type": "markdown",
   "id": "e402414d",
   "metadata": {},
   "source": [
    "4. What method takes a list argument and writes it to a CSV file?\n",
    "\n",
    "Ans\n",
    "\n",
    "writerow method"
   ]
  },
  {
   "cell_type": "markdown",
   "id": "bf3f0169",
   "metadata": {},
   "source": [
    "5. What do the delimiter and lineterminator keyword arguments do?\n",
    "\n",
    "Ans\n",
    "\n",
    "delimiter--> It is used to separate the character or values from other values when we save any file in csv format.\n",
    "\n",
    "Lineterminator--> A lineterminator is a string used to terminate lines produced by writer objects.\n",
    "\n",
    "Example:\n",
    "\n",
    "delimiter = ';' Value will be separated by semi colon ;\n",
    "\n",
    "lineterminator = '\\n\\n' After every row there are two new lines"
   ]
  },
  {
   "cell_type": "markdown",
   "id": "62c84d7b",
   "metadata": {},
   "source": [
    "6. What function takes a string of JSON data and returns a Python data structure?\n",
    "\n",
    "Ans\n",
    "\n",
    "In the json module there is a function called 'load'. This will take the data in json format and convert it into python data structure format"
   ]
  },
  {
   "cell_type": "markdown",
   "id": "85115014",
   "metadata": {},
   "source": [
    "7. What function takes a Python data structure and returns a string of JSON data?\n",
    "\n",
    "Ans\n",
    "\n",
    "dumps() method in json class"
   ]
  },
  {
   "cell_type": "code",
   "execution_count": null,
   "id": "a4018a1a",
   "metadata": {},
   "outputs": [],
   "source": []
  },
  {
   "cell_type": "code",
   "execution_count": null,
   "id": "087cc26d",
   "metadata": {},
   "outputs": [],
   "source": []
  }
 ],
 "metadata": {
  "kernelspec": {
   "display_name": "Python 3",
   "language": "python",
   "name": "python3"
  },
  "language_info": {
   "codemirror_mode": {
    "name": "ipython",
    "version": 3
   },
   "file_extension": ".py",
   "mimetype": "text/x-python",
   "name": "python",
   "nbconvert_exporter": "python",
   "pygments_lexer": "ipython3",
   "version": "3.8.8"
  }
 },
 "nbformat": 4,
 "nbformat_minor": 5
}
