{
 "cells": [
  {
   "cell_type": "markdown",
   "id": "2be3e6c6",
   "metadata": {},
   "source": [
    "<b>1. How are lambda expressions and def statements related?</b>\n",
    "\n",
    "<b>def</b>: This is a keyword with whic user can build its own function and can execute it by just simply calling it. It has many lines of codes.\n",
    "\n",
    "<b>lambda</b>: This is an anonymous function which do not have any name and execute only in one line. It uses a keyword lamda"
   ]
  },
  {
   "cell_type": "markdown",
   "id": "f3bb91c9",
   "metadata": {},
   "source": [
    "<b>2. What’s the point of using lambda?</b>\n",
    "\n",
    "When we need the function to be executed just once or for a very short period of time then we use lambda. We can also say that when we required to pass the function as an argument to higher order function then we use lambda.\n",
    "\n",
    "And since its just a one line of function so it is prefered"
   ]
  },
  {
   "cell_type": "markdown",
   "id": "a9732aa5",
   "metadata": {},
   "source": [
    "<b>3. Compare and contrast map, filter, and reduce.</b>\n",
    "\n",
    "\n",
    "<b>Map</b>: It is used for mapping the function wrt to the iterable object along with it. map() function will iterate through all the iterable item and execute the function which is passed in the arguement map(function,iterable_object)\n",
    "\n",
    "<b>filter</b>: This also take a function as an argument and iterable and form a new list which have all the true values which have been filterd using this function.\n",
    "\n",
    "<b>reduce</b>: Like in map and filter, this also take one function as an argument and and iterable object but it does not return a list. It only return a single value. It will try to take first two item in the iterable object and perform the operation, then the result which we get from that will perform the same operation with the third one and this process keeps going until we get the single value"
   ]
  },
  {
   "cell_type": "markdown",
   "id": "c0d1f0c7",
   "metadata": {},
   "source": [
    "<b>4. What are function annotations, and how are they used?</b>\n",
    "\n",
    "Ans\n",
    "\n",
    "Function annotations are completely optional both for parameters and return value. Function annotations provide a way of associating various parts of a function with arbitrary python expressions at compile time."
   ]
  },
  {
   "cell_type": "markdown",
   "id": "95823a29",
   "metadata": {},
   "source": [
    "<b>5. What are recursive functions, and how are they used?</b>\n",
    "\n",
    "Ans\n",
    "\n",
    "Recursive function is such function which call itself during its execution. The process may repeat several times, outputting the result and the end of each iteration.\n",
    "\n",
    "Recursive functions can be used to solve tasks in elegant ways. When a function calls itself, that's called a recursion step. The basis of recursion is function arguments that make the task so simple that the function does not make further calls"
   ]
  },
  {
   "cell_type": "markdown",
   "id": "7655f4a5",
   "metadata": {},
   "source": [
    "<b>6. What are some general design guidelines for coding functions?</b>\n",
    "\n",
    "Ans\n",
    "\n",
    "-Limited use of globals\n",
    "\n",
    "-Naming conventions for local variables, global variables, constants and functions\n",
    "\n",
    "-Proper Indentation\n",
    "\n",
    "-Error return values and exception handling conventions\n",
    "\n",
    "-Code should be well documented\n",
    "\n",
    "-Length of functions should not be very large\n",
    "\n",
    "-Avoid using a coding style that is too difficult to understand:"
   ]
  },
  {
   "cell_type": "markdown",
   "id": "49024136",
   "metadata": {},
   "source": [
    "<b>7. Name three or more ways that functions can communicate results to a caller</b>\n",
    "\n",
    "Ans\n",
    "\n",
    "using return\n",
    "\n",
    "assigning a variable equals to function\n",
    "\n",
    "passing the function as an argument to someother function and then calling that function which return the previous function\n",
    "\n"
   ]
  }
 ],
 "metadata": {
  "kernelspec": {
   "display_name": "Python 3",
   "language": "python",
   "name": "python3"
  },
  "language_info": {
   "codemirror_mode": {
    "name": "ipython",
    "version": 3
   },
   "file_extension": ".py",
   "mimetype": "text/x-python",
   "name": "python",
   "nbconvert_exporter": "python",
   "pygments_lexer": "ipython3",
   "version": "3.8.8"
  }
 },
 "nbformat": 4,
 "nbformat_minor": 5
}
