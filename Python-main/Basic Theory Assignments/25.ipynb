{
 "cells": [
  {
   "cell_type": "markdown",
   "id": "26e761b2",
   "metadata": {},
   "source": [
    "<b>1. What is the difference between enclosing a list comprehension in square brackets and parentheses?</b>\n",
    "\n",
    "Ans\n",
    "\n",
    "Lets take and example:\n",
    "\n",
    "l1=[i for i in range(10)] ---> l1=[0 1 2 3 4 5 6 7 8 9] This will give the generator\n",
    "\n",
    "l2=(i for i in range(10)) ---> l2=(0 1 2 3 4 5 6 7 8 9) This will give the tuples of numbers "
   ]
  },
  {
   "cell_type": "markdown",
   "id": "597cfa7f",
   "metadata": {},
   "source": [
    "2. How are generators and iterators related?\n",
    "\n",
    "Ans\n",
    "\n",
    "Iterators: These are the something on which we can iterate upon. We can make anything iterator only when that thing is an iterable object. Then after by using iter function we can make any thing an iterator. Purpose of iterartor is to store the data one by one as when next function is call and then it give the data in return one by one when and only when we call next function on iterator object\n",
    "\n",
    "Generator: It is used for making iterator while defining the function. Instead of return keyword it uses yield keyword. This means that all the items will get store into geneartor object and then it is called out only when next function is applied on it. Difference is only that, we can use iter function to make iterator only out of iterable objects but in case of generator we can make any thing a iterator We can also use for loop also."
   ]
  },
  {
   "cell_type": "markdown",
   "id": "6f38dca6",
   "metadata": {},
   "source": [
    "<b>3. How can you tell if a function is a generator function?</b>\n",
    "\n",
    "If a function ahs yield keyword instead of return then we can say that that is a generator function. We create an object of that generator function and then we can use next function on the generator object to retireve the items one by one or can use for loop also."
   ]
  },
  {
   "cell_type": "markdown",
   "id": "42345eac",
   "metadata": {},
   "source": [
    "4. What does a yield statement do?\n",
    "\n",
    "Ans\n",
    "\n",
    "yield statement makes a generator function. It store the data and throw them one by one simultaneously without destroying the state of the variable.\n",
    "\n",
    "A yield statementsimilar to return statement.\n",
    "\n",
    "When the Python yield statement is hit, the program suspends function execution and returns the yielded value to the caller. Then again when we use next function on the genrator function, it again throw the generated value. This keep on going untill all the iteration gsts finish"
   ]
  },
  {
   "cell_type": "markdown",
   "id": "bbb635d5",
   "metadata": {},
   "source": [
    "5. How are map calls and list comprehensions related? Compare and contrast the two.\n",
    "\n",
    "Ans\n",
    "\n",
    "List comprehension is more concise and easier to read as compared to map.\n",
    "\n",
    "List comprehension are used when a list of results is required as map only returns a map object and does not return any list. However we can use list function to make convert it into a list.\n",
    "\n",
    "Map is faster in case of calling an already defined function."
   ]
  },
  {
   "cell_type": "code",
   "execution_count": null,
   "id": "490c974c",
   "metadata": {},
   "outputs": [],
   "source": []
  }
 ],
 "metadata": {
  "kernelspec": {
   "display_name": "Python 3",
   "language": "python",
   "name": "python3"
  },
  "language_info": {
   "codemirror_mode": {
    "name": "ipython",
    "version": 3
   },
   "file_extension": ".py",
   "mimetype": "text/x-python",
   "name": "python",
   "nbconvert_exporter": "python",
   "pygments_lexer": "ipython3",
   "version": "3.8.8"
  }
 },
 "nbformat": 4,
 "nbformat_minor": 5
}
