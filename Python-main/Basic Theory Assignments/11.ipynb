{
 "cells": [
  {
   "cell_type": "markdown",
   "id": "71e19ec3",
   "metadata": {},
   "source": [
    "1. Write an assert statement that triggers an AssertionError if the variable spam is an integer less than 10.\n"
   ]
  },
  {
   "cell_type": "markdown",
   "id": "39af1938",
   "metadata": {},
   "source": [
    "\n",
    "try:\n",
    "    spam=10\n",
    "    assert spam<10,\"spam value is not less than 10\"\n",
    "    \n",
    "except AssertionError as e:\n",
    "    print(e)\n",
    "else:\n",
    "    print(x)\n"
   ]
  },
  {
   "cell_type": "markdown",
   "id": "9a7fb38b",
   "metadata": {},
   "source": [
    "2. Write an assert statement that triggers an AssertionError if the variables eggs and bacon contain strings that are the same as each other, even if their cases are different (that is, 'hello' and 'hello' are considered the same, and 'goodbye' and 'GOODbye' are also considered the same).\n",
    "\n"
   ]
  },
  {
   "cell_type": "code",
   "execution_count": 6,
   "id": "111df30a",
   "metadata": {},
   "outputs": [
    {
     "ename": "AssertionError",
     "evalue": "eggs and bacon does not contain same values",
     "output_type": "error",
     "traceback": [
      "\u001b[1;31m---------------------------------------------------------------------------\u001b[0m",
      "\u001b[1;31mAssertionError\u001b[0m                            Traceback (most recent call last)",
      "\u001b[1;32m<ipython-input-6-4c1f18c6705d>\u001b[0m in \u001b[0;36m<module>\u001b[1;34m\u001b[0m\n\u001b[0;32m      2\u001b[0m \u001b[0mbacon\u001b[0m\u001b[1;33m=\u001b[0m\u001b[1;34m'HELLO'\u001b[0m\u001b[1;33m\u001b[0m\u001b[1;33m\u001b[0m\u001b[0m\n\u001b[0;32m      3\u001b[0m \u001b[1;33m\u001b[0m\u001b[0m\n\u001b[1;32m----> 4\u001b[1;33m \u001b[1;32massert\u001b[0m \u001b[0meggs\u001b[0m\u001b[1;33m==\u001b[0m\u001b[0mbacon\u001b[0m\u001b[1;33m,\u001b[0m\u001b[1;34m'eggs and bacon does not contain same values'\u001b[0m\u001b[1;33m\u001b[0m\u001b[1;33m\u001b[0m\u001b[0m\n\u001b[0m\u001b[0;32m      5\u001b[0m \u001b[0mprint\u001b[0m\u001b[1;33m(\u001b[0m\u001b[1;34m\"values are same\"\u001b[0m\u001b[1;33m)\u001b[0m\u001b[1;33m\u001b[0m\u001b[1;33m\u001b[0m\u001b[0m\n",
      "\u001b[1;31mAssertionError\u001b[0m: eggs and bacon does not contain same values"
     ]
    }
   ],
   "source": [
    "eggs='hello'\n",
    "bacon='HELLO'\n",
    "\n",
    "assert eggs==bacon,'eggs and bacon does not contain same values'\n",
    "print(\"values are same\")"
   ]
  },
  {
   "cell_type": "markdown",
   "id": "57c8983e",
   "metadata": {},
   "source": [
    "3. Write an assert statement that always triggers an AssertionError."
   ]
  },
  {
   "cell_type": "code",
   "execution_count": 7,
   "id": "e86772d1",
   "metadata": {},
   "outputs": [
    {
     "ename": "AssertionError",
     "evalue": "",
     "output_type": "error",
     "traceback": [
      "\u001b[1;31m---------------------------------------------------------------------------\u001b[0m",
      "\u001b[1;31mAssertionError\u001b[0m                            Traceback (most recent call last)",
      "\u001b[1;32m<ipython-input-7-a871fdc9ebee>\u001b[0m in \u001b[0;36m<module>\u001b[1;34m\u001b[0m\n\u001b[1;32m----> 1\u001b[1;33m \u001b[1;32massert\u001b[0m \u001b[1;32mFalse\u001b[0m\u001b[1;33m\u001b[0m\u001b[1;33m\u001b[0m\u001b[0m\n\u001b[0m",
      "\u001b[1;31mAssertionError\u001b[0m: "
     ]
    }
   ],
   "source": [
    "assert False"
   ]
  },
  {
   "cell_type": "markdown",
   "id": "713b7cbf",
   "metadata": {},
   "source": [
    "4. What are the two lines that your program must have in order to be able to call logging.debug()?"
   ]
  },
  {
   "cell_type": "markdown",
   "id": "71ad3334",
   "metadata": {},
   "source": [
    "logging.basicConfig(filename='./programLog.txt', level=logging.DEBUG)\n",
    "\n",
    "logging.debug('This is a first debugging log')"
   ]
  },
  {
   "cell_type": "markdown",
   "id": "d5c89749",
   "metadata": {},
   "source": [
    "\n",
    "\n",
    "6. What are the five logging levels?\n",
    "\n",
    "Ans.\n",
    "\n",
    "1 INFO\n",
    "\n",
    "2 DEBUG\n",
    "\n",
    "3 WARNINGS\n",
    "\n",
    "4 EXCEPTION\n",
    "\n",
    "5 ERROR\n",
    "\n"
   ]
  },
  {
   "cell_type": "markdown",
   "id": "d8824a96",
   "metadata": {},
   "source": [
    "7. What line of code can you add to disable all logging messages in your program?\n",
    "\n",
    "import logging\n",
    "\n",
    "logging.disable()"
   ]
  },
  {
   "cell_type": "markdown",
   "id": "d61796d0",
   "metadata": {},
   "source": [
    "8. Why is using logging messages better than using print() to display the same message?\n",
    "\n",
    "Ans. This is because as a good programmer its our responsibility that we should create a logger instead of printing information it into console so that user do not get frustated after seeing so many error/messages and data in console amd this will also helpful because with logging we are storing the information in some file so that we can check the code flow even line by line. So it should be our practice that it we should capture the data into a log file so that whenever system gets crashed we can easliy able to see that log file rather than seeing in console which is something irritating and not a good practice. It can also be helpfull when some unwanted user uses the code, then we can easily able to get the line by line information."
   ]
  },
  {
   "cell_type": "markdown",
   "id": "c58dc7b8",
   "metadata": {},
   "source": [
    "9. What are the differences between the Step Over, Step In, and Step Out buttons in the debugger?\n",
    "\n",
    "Ans.\n",
    "\n",
    "i) Step over: Steps over the current line of code and takes you to the next line even.\n",
    "\n",
    "ii)Step In: This will take you inside the respective function and show you want is happening inside.\n",
    "\n",
    "iii) Step Out: It will first exceute the current function (every line) completly and then take you out of the function where the pointer is at the position of function call."
   ]
  },
  {
   "cell_type": "markdown",
   "id": "9df65b79",
   "metadata": {},
   "source": [
    "10 After you click Continue, when will the debugger stop?\n",
    "\n",
    "Ans.\n",
    "\n",
    "If any breakpoint is mention in the program, then after reaching to that point debugging will stop."
   ]
  },
  {
   "cell_type": "markdown",
   "id": "e8f49f07",
   "metadata": {},
   "source": [
    "11. What is a breakpoint?\n",
    "\n",
    "Ans.\n",
    "\n",
    "It is a point where the program will stop executing further."
   ]
  },
  {
   "cell_type": "code",
   "execution_count": null,
   "id": "6b156b7e",
   "metadata": {},
   "outputs": [],
   "source": []
  },
  {
   "cell_type": "code",
   "execution_count": null,
   "id": "56482cf5",
   "metadata": {},
   "outputs": [],
   "source": []
  }
 ],
 "metadata": {
  "kernelspec": {
   "display_name": "Python 3",
   "language": "python",
   "name": "python3"
  },
  "language_info": {
   "codemirror_mode": {
    "name": "ipython",
    "version": 3
   },
   "file_extension": ".py",
   "mimetype": "text/x-python",
   "name": "python",
   "nbconvert_exporter": "python",
   "pygments_lexer": "ipython3",
   "version": "3.8.8"
  }
 },
 "nbformat": 4,
 "nbformat_minor": 5
}
