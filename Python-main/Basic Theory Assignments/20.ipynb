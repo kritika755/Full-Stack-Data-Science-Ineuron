{
 "cells": [
  {
   "cell_type": "markdown",
   "id": "e1f7dffe",
   "metadata": {},
   "source": [
    "1. Assign the string 'This is a test of the emergency text system' to the variable test1, and write test1 to a file called test.txt."
   ]
  },
  {
   "cell_type": "code",
   "execution_count": 1,
   "id": "e0a0d5c9",
   "metadata": {},
   "outputs": [],
   "source": [
    "test1='This is a test of the emergency text system'\n",
    "\n",
    "with open('test.txt','w') as file:\n",
    "    file.write(test1)"
   ]
  },
  {
   "cell_type": "markdown",
   "id": "19aeb05f",
   "metadata": {},
   "source": [
    "2. Open the file test.txt and read its contents into the string test2. Are test1 and test2 the same?"
   ]
  },
  {
   "cell_type": "code",
   "execution_count": 2,
   "id": "4838cc94",
   "metadata": {},
   "outputs": [
    {
     "name": "stdout",
     "output_type": "stream",
     "text": [
      "This is a test of the emergency text system\n"
     ]
    }
   ],
   "source": [
    "with open('test.txt') as file2:\n",
    "    test2=file2.read()\n",
    "print(test2)"
   ]
  },
  {
   "cell_type": "code",
   "execution_count": 3,
   "id": "505e7d04",
   "metadata": {},
   "outputs": [
    {
     "data": {
      "text/plain": [
       "True"
      ]
     },
     "execution_count": 3,
     "metadata": {},
     "output_type": "execute_result"
    }
   ],
   "source": [
    "test1==test2"
   ]
  },
  {
   "cell_type": "markdown",
   "id": "fef4c937",
   "metadata": {},
   "source": [
    "yes, both are same"
   ]
  },
  {
   "cell_type": "markdown",
   "id": "fb73aec1",
   "metadata": {},
   "source": [
    "3. Save these text lines to a file called books.csv. Notice that if the fields are separated by commas, you need to surround a field with quotes if it contains a comma.\n",
    "\n",
    "author,book\n",
    "\n",
    "J R R Tolkien,The Hobbit\n",
    "\n",
    "Lynne Truss,\"Eats, Shoots & Leaves\""
   ]
  },
  {
   "cell_type": "code",
   "execution_count": 4,
   "id": "6862ef89",
   "metadata": {},
   "outputs": [
    {
     "name": "stdout",
     "output_type": "stream",
     "text": [
      "72\n"
     ]
    }
   ],
   "source": [
    "text='''author,book\n",
    "J R R Tolkien,The Hobbit\n",
    "Lynne Truss,\"Eats, Shoots & Leaves\"'''\n",
    "with open('book.csv','wt') as file3:\n",
    "    r=file3.write(text)\n",
    "print(r)"
   ]
  },
  {
   "cell_type": "markdown",
   "id": "1549c102",
   "metadata": {},
   "source": [
    "4. Use the csv module and its DictReader method to read books.csv to the variable books. Print the values in books. Did DictReader handle the quotes and commas in the second book’s title?"
   ]
  },
  {
   "cell_type": "code",
   "execution_count": 5,
   "id": "d5fe4532",
   "metadata": {},
   "outputs": [
    {
     "name": "stdout",
     "output_type": "stream",
     "text": [
      "{'author': 'J R R Tolkien', 'book': 'The Hobbit'}\n",
      "{'author': 'Lynne Truss', 'book': 'Eats, Shoots & Leaves'}\n"
     ]
    }
   ],
   "source": [
    "import csv\n",
    "\n",
    "with open('book.csv','rt') as file4:\n",
    "    books=csv.DictReader(file4)\n",
    "    for i in books:\n",
    "        print(dict(i))"
   ]
  },
  {
   "cell_type": "markdown",
   "id": "b5df59e6",
   "metadata": {},
   "source": [
    "5. Create a CSV file called books.csv by using these lines:\n",
    "\n",
    "title,author,year\n",
    "\n",
    "The Weirdstone of Brisingamen,Alan Garner,1960\n",
    "\n",
    "Perdido Street Station,China Miéville,2000\n",
    "\n",
    "Thud!,Terry Pratchett,2005\n",
    "\n",
    "The Spellman Files,Lisa Lutz,2007\n",
    "\n",
    "Small Gods,Terry Pratchett,1992"
   ]
  },
  {
   "cell_type": "code",
   "execution_count": 1,
   "id": "47d45c1c",
   "metadata": {},
   "outputs": [],
   "source": [
    "texts='''title, author, year\n",
    "The Weirdstone of Brisingamen, Alan Garner, 1960\n",
    "Perdido Street Station, China Mieville, 2000\n",
    "Thud !, Terry Pratchett, 2005\n",
    "The Spellmen Files, Lisa Lutz, 2007\n",
    "Small Gods, Terry Pratchett, 1992\n",
    "'''\n",
    "\n",
    "with open('books.csv','wt') as file5:\n",
    "    file5.write(texts)"
   ]
  },
  {
   "cell_type": "markdown",
   "id": "8898d754",
   "metadata": {},
   "source": [
    "6. Use the sqlite3 module to create a SQLite database called books.db, and a table called books with these fields: title (text), author (text), and year (integer)."
   ]
  },
  {
   "cell_type": "code",
   "execution_count": 4,
   "id": "ef80e59a",
   "metadata": {},
   "outputs": [],
   "source": [
    "import sqlite3\n",
    "\n",
    "db = sqlite3.connect ('books.db') #data base name is 'books'\n",
    "curs = db.cursor ()\n",
    "curs.execute('''create table books (title text, author text, year int)''') #Table name is 'book'\n",
    "db.commit()\n",
    "db.close()"
   ]
  },
  {
   "cell_type": "markdown",
   "id": "6c699938",
   "metadata": {},
   "source": [
    "7. Read books.csv and insert its data into the book table."
   ]
  },
  {
   "cell_type": "code",
   "execution_count": 5,
   "id": "6d07a66c",
   "metadata": {},
   "outputs": [],
   "source": [
    "import csv\n",
    "\n",
    "db=sqlite3.connect('books.db')\n",
    "cursor=db.cursor()\n",
    "query ='insert into book values(?,?,?)'\n",
    "with open('books.csv','rt') as r:\n",
    "    x=csv.DictReader(r)\n",
    "    for i in x:\n",
    "        cursor.execute(query,(i['title'],i[' author'],i[' year']))\n",
    "db.commit()\n",
    "db.close()"
   ]
  },
  {
   "cell_type": "markdown",
   "id": "a026ab9d",
   "metadata": {},
   "source": [
    "8. Select and print the title column from the book table in alphabetical order."
   ]
  },
  {
   "cell_type": "code",
   "execution_count": 6,
   "id": "764f1cc6",
   "metadata": {},
   "outputs": [
    {
     "name": "stdout",
     "output_type": "stream",
     "text": [
      "Perdido Street Station\n",
      "Small Gods\n",
      "The Spellmen Files\n",
      "The Weirdstone of Brisingamen\n",
      "Thud !\n"
     ]
    }
   ],
   "source": [
    "db=sqlite3.connect('books.db')\n",
    "cursor=db.cursor()\n",
    "\n",
    "query='select title from book order by title asc'\n",
    "\n",
    "for i in cursor.execute(query):\n",
    "    print(i[0])"
   ]
  },
  {
   "cell_type": "markdown",
   "id": "0ec3d4d5",
   "metadata": {},
   "source": [
    "9. Select and print all columns from the book table in order of publication."
   ]
  },
  {
   "cell_type": "code",
   "execution_count": 7,
   "id": "35ab4cbb",
   "metadata": {},
   "outputs": [
    {
     "name": "stdout",
     "output_type": "stream",
     "text": [
      " Alan Garner\n",
      " China Mieville\n",
      " Lisa Lutz\n",
      " Terry Pratchett\n",
      " Terry Pratchett\n"
     ]
    }
   ],
   "source": [
    "db=sqlite3.connect('books.db')\n",
    "cursor=db.cursor()\n",
    "\n",
    "query='select author from book order by author asc'\n",
    "\n",
    "for i in cursor.execute(query):\n",
    "    print(i[0])\n",
    "    \n",
    "db.close()"
   ]
  },
  {
   "cell_type": "markdown",
   "id": "3104fd6f",
   "metadata": {},
   "source": [
    "10. Use the sqlalchemy module to connect to the sqlite3 database books.db that you just made in exercise 6. As in 8, select and print the title column from the book table in alphabetical order."
   ]
  },
  {
   "cell_type": "code",
   "execution_count": 9,
   "id": "b966fb0d",
   "metadata": {},
   "outputs": [
    {
     "name": "stdout",
     "output_type": "stream",
     "text": [
      "Requirement already satisfied: sqlalchemy in c:\\users\\hp\\anaconda3\\new folder\\lib\\site-packages (1.4.7)\n",
      "Requirement already satisfied: greenlet!=0.4.17 in c:\\users\\hp\\anaconda3\\new folder\\lib\\site-packages (from sqlalchemy) (1.0.0)\n",
      "('Perdido Street Station',)\n",
      "('Small Gods',)\n",
      "('The Spellmen Files',)\n",
      "('The Weirdstone of Brisingamen',)\n",
      "('Thud !',)\n"
     ]
    }
   ],
   "source": [
    "!pip install sqlalchemy\n",
    "\n",
    "import sqlalchemy\n",
    "\n",
    "conn=sqlalchemy.create_engine('sqlite:///books.db')\n",
    "query='select title from book order by title asc'\n",
    "records=conn.execute(query)\n",
    "for i in records:\n",
    "    print(i)"
   ]
  },
  {
   "cell_type": "code",
   "execution_count": null,
   "id": "570c62a2",
   "metadata": {},
   "outputs": [],
   "source": []
  },
  {
   "cell_type": "code",
   "execution_count": null,
   "id": "eb189ac2",
   "metadata": {},
   "outputs": [],
   "source": []
  }
 ],
 "metadata": {
  "kernelspec": {
   "display_name": "Python 3",
   "language": "python",
   "name": "python3"
  },
  "language_info": {
   "codemirror_mode": {
    "name": "ipython",
    "version": 3
   },
   "file_extension": ".py",
   "mimetype": "text/x-python",
   "name": "python",
   "nbconvert_exporter": "python",
   "pygments_lexer": "ipython3",
   "version": "3.8.8"
  }
 },
 "nbformat": 4,
 "nbformat_minor": 5
}
