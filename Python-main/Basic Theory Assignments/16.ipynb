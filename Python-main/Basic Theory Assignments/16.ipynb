{
 "cells": [
  {
   "cell_type": "markdown",
   "id": "f747956d",
   "metadata": {},
   "source": [
    "1. Create a list called years_list, starting with the year of your birth, and each year thereafter until the year of your fifth birthday. For example, if you were born in 1980. the list would be years_list = [1980, 1981, 1982, 1983, 1984, 1985].\n",
    "\n",
    "If you’re less than five years old and reading this book, I don’t know what to tell you."
   ]
  },
  {
   "cell_type": "code",
   "execution_count": 4,
   "id": "2c6b49eb",
   "metadata": {},
   "outputs": [
    {
     "data": {
      "text/plain": [
       "[1997, 1998, 1999, 2000, 2001]"
      ]
     },
     "execution_count": 4,
     "metadata": {},
     "output_type": "execute_result"
    }
   ],
   "source": [
    "years_list=[]\n",
    "\n",
    "a=1997\n",
    "\n",
    "for i in range(0,5,1):\n",
    "    years_list.append(a)\n",
    "    a+=1\n",
    "    \n",
    "years_list"
   ]
  },
  {
   "cell_type": "markdown",
   "id": "afe39840",
   "metadata": {},
   "source": [
    "2. In which year in years_list was your third birthday? Remember, you were 0 years of age for your first year."
   ]
  },
  {
   "cell_type": "code",
   "execution_count": 5,
   "id": "3ce6e172",
   "metadata": {},
   "outputs": [
    {
     "data": {
      "text/plain": [
       "1999"
      ]
     },
     "execution_count": 5,
     "metadata": {},
     "output_type": "execute_result"
    }
   ],
   "source": [
    "third_bday=years_list[2]\n",
    "third_bday"
   ]
  },
  {
   "cell_type": "markdown",
   "id": "a9f51a1c",
   "metadata": {},
   "source": [
    "3 In which year in years_list were you the oldest?"
   ]
  },
  {
   "cell_type": "code",
   "execution_count": 6,
   "id": "5df4472c",
   "metadata": {},
   "outputs": [
    {
     "data": {
      "text/plain": [
       "2001"
      ]
     },
     "execution_count": 6,
     "metadata": {},
     "output_type": "execute_result"
    }
   ],
   "source": [
    "oldest=years_list[-1]\n",
    "oldest"
   ]
  },
  {
   "cell_type": "markdown",
   "id": "347ab01f",
   "metadata": {},
   "source": [
    "4. Make a list called things with these three strings as elements: \"mozzarella\", \"cinderella\", \"salmonella\"."
   ]
  },
  {
   "cell_type": "code",
   "execution_count": 7,
   "id": "be0dcf42",
   "metadata": {},
   "outputs": [
    {
     "data": {
      "text/plain": [
       "['mozzarella', 'cinderella', 'salmonella']"
      ]
     },
     "execution_count": 7,
     "metadata": {},
     "output_type": "execute_result"
    }
   ],
   "source": [
    "things=[\"mozzarella\", \"cinderella\", \"salmonella\"]\n",
    "things"
   ]
  },
  {
   "cell_type": "markdown",
   "id": "f66518a2",
   "metadata": {},
   "source": [
    "5. Capitalize the element in things that refers to a person and then print the list. Did it change the element in the list?"
   ]
  },
  {
   "cell_type": "code",
   "execution_count": 12,
   "id": "4820a91d",
   "metadata": {},
   "outputs": [
    {
     "data": {
      "text/plain": [
       "['Mozzarella', 'Cinderella', 'Salmonella']"
      ]
     },
     "execution_count": 12,
     "metadata": {},
     "output_type": "execute_result"
    }
   ],
   "source": [
    "cap=[]\n",
    "\n",
    "for i in things:\n",
    "    cap.append(i.capitalize())\n",
    "    \n",
    "cap\n",
    "    \n",
    "    \n",
    "\n",
    "    \n"
   ]
  },
  {
   "cell_type": "markdown",
   "id": "7db6e3ef",
   "metadata": {},
   "source": [
    "6. Make the cheesy element of things all uppercase and then print the list."
   ]
  },
  {
   "cell_type": "code",
   "execution_count": 13,
   "id": "204a0c31",
   "metadata": {},
   "outputs": [
    {
     "data": {
      "text/plain": [
       "['MOZZARELLA', 'CINDERELLA', 'SALMONELLA']"
      ]
     },
     "execution_count": 13,
     "metadata": {},
     "output_type": "execute_result"
    }
   ],
   "source": [
    "cap=[]\n",
    "\n",
    "for i in things:\n",
    "    cap.append(i.upper())\n",
    "    \n",
    "cap"
   ]
  },
  {
   "cell_type": "markdown",
   "id": "3ba7a809",
   "metadata": {},
   "source": [
    "7. Delete the disease element from things, collect your Nobel Prize, and print the list."
   ]
  },
  {
   "cell_type": "code",
   "execution_count": 14,
   "id": "db7cced4",
   "metadata": {},
   "outputs": [
    {
     "data": {
      "text/plain": [
       "['mozzarella', 'cinderella']"
      ]
     },
     "execution_count": 14,
     "metadata": {},
     "output_type": "execute_result"
    }
   ],
   "source": [
    "things.remove('salmonella')\n",
    "things"
   ]
  },
  {
   "cell_type": "markdown",
   "id": "908b1fcf",
   "metadata": {},
   "source": [
    "8. Create a list called surprise with the elements \"Groucho\", \"Chico\", and \"Harpo\".\n",
    "\n"
   ]
  },
  {
   "cell_type": "code",
   "execution_count": 15,
   "id": "6418bfe8",
   "metadata": {},
   "outputs": [
    {
     "data": {
      "text/plain": [
       "['Groucho', 'Chico', 'Harpo']"
      ]
     },
     "execution_count": 15,
     "metadata": {},
     "output_type": "execute_result"
    }
   ],
   "source": [
    "surprise=[ 'Groucho', 'Chico','Harpo']\n",
    "surprise"
   ]
  },
  {
   "cell_type": "markdown",
   "id": "648c17de",
   "metadata": {},
   "source": [
    "9. Lowercase the last element of the surprise list, reverse it, and then capitalize it."
   ]
  },
  {
   "cell_type": "code",
   "execution_count": 17,
   "id": "7f18792e",
   "metadata": {},
   "outputs": [
    {
     "data": {
      "text/plain": [
       "'Oprah'"
      ]
     },
     "execution_count": 17,
     "metadata": {},
     "output_type": "execute_result"
    }
   ],
   "source": [
    "surprise[-1].lower()[::-1].capitalize()"
   ]
  },
  {
   "cell_type": "markdown",
   "id": "04e66bb7",
   "metadata": {},
   "source": [
    "10. Make an English-to-French dictionary called e2f and print it. Here are your starter words: dog is chien, cat is chat, and walrus is morse."
   ]
  },
  {
   "cell_type": "code",
   "execution_count": 18,
   "id": "3f2c68f1",
   "metadata": {},
   "outputs": [
    {
     "data": {
      "text/plain": [
       "{'dog': 'chien', 'cat': 'chat', 'walrus': 'morse'}"
      ]
     },
     "execution_count": 18,
     "metadata": {},
     "output_type": "execute_result"
    }
   ],
   "source": [
    "e2f={'dog':'chien','cat':'chat','walrus':'morse'}\n",
    "e2f"
   ]
  },
  {
   "cell_type": "markdown",
   "id": "f15f73d5",
   "metadata": {},
   "source": [
    "11. Using your three-word dictionary e2f, print the French word for walrus."
   ]
  },
  {
   "cell_type": "code",
   "execution_count": 20,
   "id": "8f7259a4",
   "metadata": {},
   "outputs": [
    {
     "data": {
      "text/plain": [
       "'morse'"
      ]
     },
     "execution_count": 20,
     "metadata": {},
     "output_type": "execute_result"
    }
   ],
   "source": [
    "e2f['walrus']"
   ]
  },
  {
   "cell_type": "markdown",
   "id": "f36a8a4a",
   "metadata": {},
   "source": [
    "12. Make a French-to-English dictionary called f2e from e2f. Use the items method."
   ]
  },
  {
   "cell_type": "code",
   "execution_count": 23,
   "id": "ba3fdfc9",
   "metadata": {},
   "outputs": [
    {
     "name": "stdout",
     "output_type": "stream",
     "text": [
      "{'chien': 'dog', 'chat': 'cat', 'morse': 'walrus'}\n"
     ]
    }
   ],
   "source": [
    "f2e={}\n",
    "\n",
    "for i,j in e2f.items():\n",
    "    f2e[j]=i\n",
    "    \n",
    "print(f2e)\n",
    "    "
   ]
  },
  {
   "cell_type": "markdown",
   "id": "f3199d4d",
   "metadata": {},
   "source": [
    "13. Using f2e, print the English equivalent of the French word chien."
   ]
  },
  {
   "cell_type": "code",
   "execution_count": 24,
   "id": "baec8c5d",
   "metadata": {},
   "outputs": [
    {
     "data": {
      "text/plain": [
       "'dog'"
      ]
     },
     "execution_count": 24,
     "metadata": {},
     "output_type": "execute_result"
    }
   ],
   "source": [
    "f2e['chien']"
   ]
  },
  {
   "cell_type": "markdown",
   "id": "dd863930",
   "metadata": {},
   "source": [
    "\n",
    "14. Make and print a set of English words from the keys in e2f."
   ]
  },
  {
   "cell_type": "code",
   "execution_count": 26,
   "id": "9fb404ef",
   "metadata": {},
   "outputs": [
    {
     "name": "stdout",
     "output_type": "stream",
     "text": [
      "{'cat', 'dog', 'walrus'}\n",
      "<class 'set'>\n"
     ]
    }
   ],
   "source": [
    "l=set()\n",
    "\n",
    "for i,j in e2f.items():\n",
    "    l.add(i)\n",
    "\n",
    "    \n",
    "print(l)\n",
    "print(type(l))"
   ]
  },
  {
   "cell_type": "markdown",
   "id": "c019f76d",
   "metadata": {},
   "source": [
    "15. Make a multilevel dictionary called life. Use these strings for the topmost keys: 'animals', 'plants', and 'other'. Make the 'animals' key refer to another dictionary with the keys 'cats', 'octopi', and 'emus'. Make the 'cats' key refer to a list of strings with the values 'Henri', 'Grumpy', and 'Lucy'. Make all the other keys refer to empty dictionaries."
   ]
  },
  {
   "cell_type": "code",
   "execution_count": 27,
   "id": "7600d777",
   "metadata": {},
   "outputs": [
    {
     "data": {
      "text/plain": [
       "{'animal': {'cat': ['Henri', 'Grumpy', 'Lucy'], 'octopi': {}, 'emus': {}},\n",
       " 'plants': {},\n",
       " 'other': {}}"
      ]
     },
     "execution_count": 27,
     "metadata": {},
     "output_type": "execute_result"
    }
   ],
   "source": [
    "life={'animal':{'cat':['Henri','Grumpy','Lucy'],'octopi':{},'emus':{}},'plants':{},'other':{}}\n",
    "life"
   ]
  },
  {
   "cell_type": "markdown",
   "id": "90eccec1",
   "metadata": {},
   "source": [
    "16. Print the top-level keys of life."
   ]
  },
  {
   "cell_type": "code",
   "execution_count": 28,
   "id": "35fd94df",
   "metadata": {},
   "outputs": [
    {
     "name": "stdout",
     "output_type": "stream",
     "text": [
      "animal\n",
      "plants\n",
      "other\n"
     ]
    }
   ],
   "source": [
    "for i in life.keys():\n",
    "    print(i)"
   ]
  },
  {
   "cell_type": "markdown",
   "id": "a770e31d",
   "metadata": {},
   "source": [
    "17. Print the keys for life['animals']."
   ]
  },
  {
   "cell_type": "code",
   "execution_count": 29,
   "id": "b3047876",
   "metadata": {},
   "outputs": [
    {
     "name": "stdout",
     "output_type": "stream",
     "text": [
      "cat\n",
      "octopi\n",
      "emus\n"
     ]
    }
   ],
   "source": [
    "for i in life['animal'].keys():\n",
    "    print(i)"
   ]
  },
  {
   "cell_type": "markdown",
   "id": "1b9fec26",
   "metadata": {},
   "source": [
    "18. Print the values for life['animals']['cats']"
   ]
  },
  {
   "cell_type": "code",
   "execution_count": 30,
   "id": "aa6dd873",
   "metadata": {},
   "outputs": [
    {
     "data": {
      "text/plain": [
       "['Henri', 'Grumpy', 'Lucy']"
      ]
     },
     "execution_count": 30,
     "metadata": {},
     "output_type": "execute_result"
    }
   ],
   "source": [
    "life['animal']['cat']\n"
   ]
  },
  {
   "cell_type": "code",
   "execution_count": null,
   "id": "2cfd88a5",
   "metadata": {},
   "outputs": [],
   "source": []
  },
  {
   "cell_type": "code",
   "execution_count": null,
   "id": "3e52bad2",
   "metadata": {},
   "outputs": [],
   "source": []
  },
  {
   "cell_type": "code",
   "execution_count": null,
   "id": "fe2e3834",
   "metadata": {},
   "outputs": [],
   "source": []
  },
  {
   "cell_type": "code",
   "execution_count": null,
   "id": "11c3d210",
   "metadata": {},
   "outputs": [],
   "source": []
  },
  {
   "cell_type": "code",
   "execution_count": null,
   "id": "8b2f5309",
   "metadata": {},
   "outputs": [],
   "source": []
  }
 ],
 "metadata": {
  "kernelspec": {
   "display_name": "Python 3",
   "language": "python",
   "name": "python3"
  },
  "language_info": {
   "codemirror_mode": {
    "name": "ipython",
    "version": 3
   },
   "file_extension": ".py",
   "mimetype": "text/x-python",
   "name": "python",
   "nbconvert_exporter": "python",
   "pygments_lexer": "ipython3",
   "version": "3.8.8"
  }
 },
 "nbformat": 4,
 "nbformat_minor": 5
}
