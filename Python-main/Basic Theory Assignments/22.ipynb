{
 "cells": [
  {
   "cell_type": "markdown",
   "id": "994138ce",
   "metadata": {},
   "source": [
    "1. What is the output of the following code, and why?\n",
    "\n",
    "X = 'Spam'\n",
    "\n",
    "def func():\n",
    "    print(X)\n",
    "\n",
    "\n",
    "func()"
   ]
  },
  {
   "cell_type": "markdown",
   "id": "df6337e7",
   "metadata": {},
   "source": [
    "Spam\n",
    "\n",
    "\n",
    "X is a global variable. So its ok it is not defined inside the function but it will act globally and where ever it is use inside the function, it will give you the same value which is declared i.e. Spam"
   ]
  },
  {
   "cell_type": "markdown",
   "id": "879c40f5",
   "metadata": {},
   "source": [
    "2. What is the output of this code, and why?\n",
    "\n",
    "X = 'Spam'\n",
    "\n",
    "def func():\n",
    "    X = 'NI!'\n",
    "\n",
    "func()\n",
    "\n",
    "print(X)"
   ]
  },
  {
   "cell_type": "markdown",
   "id": "2590b5ec",
   "metadata": {},
   "source": [
    "'Spam'\n",
    "\n",
    "Since X is a global variable and it is executing outside the function so it will give the same value which is declared ouutside the function. Inside the function we have a local variable X='NI!'. So if it was executed inside the function then we will be gettin the output 'NI!'"
   ]
  },
  {
   "cell_type": "markdown",
   "id": "16aac57a",
   "metadata": {},
   "source": [
    "3. What does this code print, and why?\n",
    "\n",
    "X = 'Spam'\n",
    "\n",
    "def func():\n",
    "    X = 'NI'\n",
    "    print(X)\n",
    "\n",
    "func()\n",
    "print(X)"
   ]
  },
  {
   "cell_type": "markdown",
   "id": "1d26f2d9",
   "metadata": {},
   "source": [
    "NI Spam\n",
    "\n",
    "X = 'Spam' is global variable so outside the function its value will remain this.\n",
    "\n",
    "X = 'NI' is a local variable so anywhere inside the function it will get executed so it will give this result. Its scope is only withing the function\n",
    "\n"
   ]
  },
  {
   "cell_type": "markdown",
   "id": "7ffd282b",
   "metadata": {},
   "source": [
    "4. What output does this code produce? Why?\n",
    "\n",
    "X = 'Spam'\n",
    "\n",
    "def func():\n",
    "global X\n",
    "X = 'NI'\n",
    "\n",
    "func()\n",
    "print(X)"
   ]
  },
  {
   "cell_type": "markdown",
   "id": "998252b9",
   "metadata": {},
   "source": [
    "NI\n",
    "\n",
    "By using global keyword we are converting the local variable (X='NI') into global variable so now its scope will be outside the function which was not earlier when it was a local variable thats why we are getting this outout"
   ]
  },
  {
   "cell_type": "markdown",
   "id": "4a944eb9",
   "metadata": {},
   "source": [
    "5. What about this code—what’s the output, and why?\n",
    "\n",
    "X = 'Spam'\n",
    "\n",
    "def func():\n",
    "X = 'NI'\n",
    "\n",
    "def nested():\n",
    "\n",
    "    print(X)\n",
    "\n",
    "nested()\n",
    "\n",
    "func()\n",
    "\n",
    "X"
   ]
  },
  {
   "cell_type": "markdown",
   "id": "4ca3ba71",
   "metadata": {},
   "source": [
    "NI\n",
    "\n",
    "Spam\n",
    "\n",
    "For nested function X='NI' is a global variable so it will give 'NI' in return\n",
    "\n",
    "For X which is outside the function scope, is itself a global variable"
   ]
  },
  {
   "cell_type": "markdown",
   "id": "137bca01",
   "metadata": {},
   "source": [
    "6. How about this example: what is its output in Python 3.X, and why?\n",
    "\n",
    "def func():\n",
    "X = 'NI'\n",
    "\n",
    "def nested():\n",
    "    nonlocal X\n",
    "    X = 'Spam'\n",
    "\n",
    "nested()\n",
    "print(X)\n",
    "func()"
   ]
  },
  {
   "cell_type": "markdown",
   "id": "7113e108",
   "metadata": {},
   "source": [
    "Spam\n",
    "\n",
    "nonlocal is a keyword used in nested function where the variable is made nonlocal meaning, it can not be treated as local variable in that nested function. However its scope will becomes at outside of the nested function. So thats why we are getting this output"
   ]
  },
  {
   "cell_type": "markdown",
   "id": "f4b10f98",
   "metadata": {},
   "source": [
    "7. Name three or more ways to retain state information in a Python function.\n",
    "\n",
    "Ans-\n",
    "1- WITH Global variable\n",
    "\n",
    "2- With Nonlocal variable\n",
    "\n",
    "3- With function attributes"
   ]
  },
  {
   "cell_type": "markdown",
   "id": "89f9c003",
   "metadata": {},
   "source": []
  },
  {
   "cell_type": "markdown",
   "id": "eb9d44b3",
   "metadata": {},
   "source": []
  },
  {
   "cell_type": "markdown",
   "id": "f64fcb7a",
   "metadata": {},
   "source": []
  },
  {
   "cell_type": "code",
   "execution_count": null,
   "id": "a7222609",
   "metadata": {},
   "outputs": [],
   "source": []
  },
  {
   "cell_type": "code",
   "execution_count": null,
   "id": "235ee91b",
   "metadata": {},
   "outputs": [],
   "source": []
  }
 ],
 "metadata": {
  "kernelspec": {
   "display_name": "Python 3",
   "language": "python",
   "name": "python3"
  },
  "language_info": {
   "codemirror_mode": {
    "name": "ipython",
    "version": 3
   },
   "file_extension": ".py",
   "mimetype": "text/x-python",
   "name": "python",
   "nbconvert_exporter": "python",
   "pygments_lexer": "ipython3",
   "version": "3.8.8"
  }
 },
 "nbformat": 4,
 "nbformat_minor": 5
}
