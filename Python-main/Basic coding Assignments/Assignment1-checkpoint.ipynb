{
 "cells": [
  {
   "cell_type": "code",
   "execution_count": 11,
   "metadata": {},
   "outputs": [
    {
     "name": "stdout",
     "output_type": "stream",
     "text": [
      "Hello Python\n"
     ]
    }
   ],
   "source": [
    "#question1\n",
    "\n",
    "print(\"Hello Python\")\n",
    "\n"
   ]
  },
  {
   "cell_type": "code",
   "execution_count": 20,
   "metadata": {},
   "outputs": [
    {
     "name": "stdout",
     "output_type": "stream",
     "text": [
      "enter first number3\n",
      "enter second number4\n",
      "addition of two numbers = 7\n",
      "division of two numbers = 0.75\n"
     ]
    }
   ],
   "source": [
    "#question2\n",
    "\n",
    "n1=int(input(\"enter first number\"))\n",
    "n2=int(input(\"enter second number\"))\n",
    "print(\"addition of two numbers = \"+str(n1+n2))\n",
    "print(\"division of two numbers = \"+str(n1/n2))\n",
    "\n"
   ]
  },
  {
   "cell_type": "code",
   "execution_count": 22,
   "metadata": {},
   "outputs": [
    {
     "name": "stdout",
     "output_type": "stream",
     "text": [
      "enter the base of a triangle2\n",
      "enter the height of a triangle3\n",
      "area of the triangle = 3.0\n"
     ]
    }
   ],
   "source": [
    "#question3\n",
    "\n",
    "b=int(input(\"enter the base of a triangle\"))\n",
    "h=int(input(\"enter the height of a triangle\"))\n",
    "\n",
    "area=(1/2)*(b*h)\n",
    "\n",
    "print(\"area of the triangle = \"+str(area))"
   ]
  },
  {
   "cell_type": "code",
   "execution_count": 24,
   "metadata": {},
   "outputs": [
    {
     "name": "stdout",
     "output_type": "stream",
     "text": [
      "enter first number n13\n",
      "enter second number n25\n",
      "value of n1 =5\n",
      "value of n2 =3\n"
     ]
    }
   ],
   "source": [
    "#question4\n",
    "\n",
    "n1=int(input(\"enter first number n1\"))\n",
    "n2=int(input(\"enter second number n2\"))\n",
    "\n",
    "\n",
    "print(\"value of n1 =\" +str(n1+n2-n1))\n",
    "print(\"value of n2 =\" +str(n1+n2-n2))"
   ]
  },
  {
   "cell_type": "code",
   "execution_count": 33,
   "metadata": {},
   "outputs": [
    {
     "name": "stdout",
     "output_type": "stream",
     "text": [
      "a random number is0.8261742212640488\n"
     ]
    }
   ],
   "source": [
    "import random\n",
    "\n",
    "print(\"a random number is\" + str(random.random()))"
   ]
  }
 ],
 "metadata": {
  "kernelspec": {
   "display_name": "Python 3",
   "language": "python",
   "name": "python3"
  },
  "language_info": {
   "codemirror_mode": {
    "name": "ipython",
    "version": 3
   },
   "file_extension": ".py",
   "mimetype": "text/x-python",
   "name": "python",
   "nbconvert_exporter": "python",
   "pygments_lexer": "ipython3",
   "version": "3.7.6"
  }
 },
 "nbformat": 4,
 "nbformat_minor": 4
}
