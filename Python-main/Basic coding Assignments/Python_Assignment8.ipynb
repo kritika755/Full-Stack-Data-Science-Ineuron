{
 "cells": [
  {
   "cell_type": "code",
   "execution_count": null,
   "metadata": {},
   "outputs": [],
   "source": [
    "\n"
   ]
  },
  {
   "cell_type": "code",
   "execution_count": null,
   "metadata": {},
   "outputs": [],
   "source": [
    "#1 add two matrix\n",
    "\n",
    "A=[[1,2,3],\n",
    "   [4,5,6],\n",
    "   [7,8,9]]\n",
    "\n",
    "B=[[2,3,4], \n",
    "   [4,5,6], \n",
    "   [4,5,6]]\n",
    "\n",
    "C=[[0,0,0],\n",
    "    [0,0,0],\n",
    "    [0,0,0]]\n",
    "\n",
    "\n",
    "for i in range (len(A)):\n",
    "    for j in range (len(B)):\n",
    "        C[i][j]=A[i][j]+ B[i][j]\n",
    "        \n",
    "print(C)"
   ]
  },
  {
   "cell_type": "code",
   "execution_count": 11,
   "metadata": {},
   "outputs": [
    {
     "name": "stdout",
     "output_type": "stream",
     "text": [
      "[[2, 6, 12], [16, 25, 36], [28, 40, 54]]\n"
     ]
    }
   ],
   "source": [
    "#2 multiply two matrix\n",
    "\n",
    "\n",
    "A=[[1,2,3],\n",
    "   [4,5,6],\n",
    "   [7,8,9]]\n",
    "\n",
    "B=[[2,3,4], \n",
    "   [4,5,6], \n",
    "   [4,5,6]]\n",
    "\n",
    "C=[[0,0,0],\n",
    "    [0,0,0],\n",
    "    [0,0,0]]\n",
    "\n",
    "\n",
    "for i in range (len(A)):\n",
    "    for j in range (len(B)):\n",
    "        C[i][j]=A[i][j]*B[i][j]\n",
    "        \n",
    "print(C)"
   ]
  },
  {
   "cell_type": "code",
   "execution_count": 5,
   "metadata": {},
   "outputs": [
    {
     "name": "stdout",
     "output_type": "stream",
     "text": [
      "[[1, 4, 7], [2, 5, 8], [3, 6, 9]]\n"
     ]
    }
   ],
   "source": [
    "#3 transpose a matrix\n",
    "\n",
    "\n",
    "a=[[1,2,3],\n",
    "  [4,5,6],\n",
    "  [7,8,9,]]\n",
    "\n",
    "b=[[0,0,0],\n",
    "  [0,0,0],\n",
    "  [0,0,0]]\n",
    "\n",
    "for i in range(len(a)):\n",
    "    for  j in range(len(a)):\n",
    "        b[j][i]=a[i][j]\n",
    "        \n",
    "print(b);"
   ]
  },
  {
   "cell_type": "code",
   "execution_count": 12,
   "metadata": {},
   "outputs": [
    {
     "name": "stdout",
     "output_type": "stream",
     "text": [
      "[' ', ' ', ' ', ' ', 'a', 'a', 'a', 'd', 'h', 'h', 'i', 'i', 'p', 'p', 's', 's', 't', 'y', 'y']\n"
     ]
    }
   ],
   "source": [
    "#4 sort words in alphabetic order\n",
    "\n",
    "s=\"this is a happy day\"\n",
    "\n",
    "print(sorted(s))\n"
   ]
  },
  {
   "cell_type": "code",
   "execution_count": 1,
   "metadata": {},
   "outputs": [
    {
     "name": "stdout",
     "output_type": "stream",
     "text": [
      "enter your stringkritika!\n",
      "kritika\n"
     ]
    }
   ],
   "source": [
    "#5 remove punctuation from a string\n",
    "\n",
    "punc = '''!()-[]{};:'\"\\, <>./?@#$%^&*_~'''\n",
    "\n",
    "s=input(\"enter your string\")\n",
    "\n",
    "for i in s:\n",
    "    if i in punc:\n",
    "        str1=s.replace(i,\"\")\n",
    "        \n",
    "print(str1)"
   ]
  }
 ],
 "metadata": {
  "kernelspec": {
   "display_name": "Python 3",
   "language": "python",
   "name": "python3"
  },
  "language_info": {
   "codemirror_mode": {
    "name": "ipython",
    "version": 3
   },
   "file_extension": ".py",
   "mimetype": "text/x-python",
   "name": "python",
   "nbconvert_exporter": "python",
   "pygments_lexer": "ipython3",
   "version": "3.7.6"
  }
 },
 "nbformat": 4,
 "nbformat_minor": 4
}
