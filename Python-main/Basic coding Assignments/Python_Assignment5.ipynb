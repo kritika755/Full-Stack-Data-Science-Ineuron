{
 "cells": [
  {
   "cell_type": "code",
   "execution_count": null,
   "metadata": {},
   "outputs": [],
   "source": [
    "\n",
    "\n",
    "\n",
    "\n"
   ]
  },
  {
   "cell_type": "markdown",
   "metadata": {},
   "source": [
    "\n",
    "\n"
   ]
  },
  {
   "cell_type": "markdown",
   "metadata": {},
   "source": [
    "\n",
    "\n"
   ]
  },
  {
   "cell_type": "code",
   "execution_count": null,
   "metadata": {},
   "outputs": [],
   "source": [
    "#1find LCM\n",
    "num=int(input(\"enter a number\"))\n",
    "a=0\n",
    "arr=[]\n",
    "for i  in range(0,num+1):\n",
    "    a=0;\n",
    "    for j in range(1,i+1):\n",
    "        if(i%j==0):\n",
    "            a+=1\n",
    "    if(a==2):\n",
    "        if(num%i==0):\n",
    "            arr.append(i)\n",
    "print(\"the LCM of a given number is\")       \n",
    "for i in range(0,len(arr)):\n",
    "    print(arr[i])"
   ]
  },
  {
   "cell_type": "code",
   "execution_count": null,
   "metadata": {},
   "outputs": [],
   "source": [
    "#2 find HCF of two numbers\n",
    "n1=int(input(\"enter first number\"))\n",
    "n2=int(input(\"enter second number\"))\n",
    "\n",
    "if(n1>n2):\n",
    "    a,b=n1,n2\n",
    "else:\n",
    "    a,b=n2,n1\n",
    "rem=1  \n",
    "while(rem>0):\n",
    "    rem=a%b\n",
    "    if(rem!=0):\n",
    "        b=rem\n",
    "        a=b\n",
    "print(\"the HCF of two given numbers is\" +str(b))\n"
   ]
  },
  {
   "cell_type": "code",
   "execution_count": 23,
   "metadata": {},
   "outputs": [
    {
     "name": "stdout",
     "output_type": "stream",
     "text": [
      "enter a number you want to change into binary , octal, hexadecimal38\n",
      "the binary value of a given number is= \n",
      "100110\n",
      "\n",
      "the octal value of a given number is= \n",
      "46\n",
      "\n",
      "the hexadecimal value of a given number is= \n",
      "26\n",
      "\n"
     ]
    }
   ],
   "source": [
    "#3convert into binary ,octal,hexadecimal\n",
    "\n",
    "n=int(input(\"enter a number you want to change into binary , octal, hexadecimal\"))\n",
    "\n",
    "num=n\n",
    "arr=[]\n",
    "\n",
    "while(num>0):\n",
    "    r=num%2\n",
    "    arr.append(r)\n",
    "    num=int(num/2)\n",
    "    \n",
    "num=n\n",
    "r=0\n",
    "arr=arr[::-1]\n",
    "\n",
    "print(\"the binary value of a given number is= \")\n",
    "for i in range(0,len(arr)):\n",
    "    print(arr[i],end='')\n",
    "print('\\n')\n",
    "\n",
    "\n",
    "\n",
    "arr=[]\n",
    "while(num>0):\n",
    "    r=num%8\n",
    "    arr.append(r)\n",
    "    num=int(num/8)\n",
    "        \n",
    "arr=arr[::-1]   \n",
    "print(\"the octal value of a given number is= \")\n",
    "for i in range(0,len(arr)):\n",
    "    print(arr[i],end='')\n",
    "print('\\n')\n",
    " \n",
    "\n",
    "num=n\n",
    "r=0\n",
    "\n",
    "arr=[]\n",
    "while(num>0):\n",
    "    r=num%16\n",
    "    if(r==10):\n",
    "        r='A'\n",
    "    if(r==11):\n",
    "        r='B'\n",
    "    if(r==12):\n",
    "        r='C'\n",
    "    if(r==13):\n",
    "        r='D'\n",
    "    if(r==14):\n",
    "        r='E'\n",
    "    if(r==15):\n",
    "        r='F'\n",
    "    arr.append(r)\n",
    "    num=int(num/16)\n",
    "        \n",
    "arr=arr[::-1] \n",
    "print(\"the hexadecimal value of a given number is= \")\n",
    "for i in range(0,len(arr)):\n",
    "    print(arr[i],end='')\n",
    "print('\\n')\n",
    "    \n",
    "    \n"
   ]
  },
  {
   "cell_type": "code",
   "execution_count": 28,
   "metadata": {},
   "outputs": [
    {
     "name": "stdout",
     "output_type": "stream",
     "text": [
      "enter a character whose ASCII value you want to know9\n"
     ]
    },
    {
     "data": {
      "text/plain": [
       "57"
      ]
     },
     "execution_count": 28,
     "metadata": {},
     "output_type": "execute_result"
    }
   ],
   "source": [
    "#4find ascii value of a character\n",
    "num=input(\"enter a character whose ASCII value you want to know\")\n",
    "ord(num)"
   ]
  },
  {
   "cell_type": "code",
   "execution_count": 29,
   "metadata": {},
   "outputs": [
    {
     "name": "stdout",
     "output_type": "stream",
     "text": [
      "enter 1 for addition,  2 for subtraction, 3 for multiplication, 4 for division4\n",
      "enter first number6\n",
      "enter second number3\n",
      "2.0\n"
     ]
    }
   ],
   "source": [
    "#5calculator with 4 basic mathematical operations.\n",
    "\n",
    "num=int(input(\"enter 1 for addition,  2 for subtraction, 3 for multiplication, 4 for division\"))\n",
    "\n",
    "num1=int(input(\"enter first number\"))\n",
    "num2=int(input(\"enter second number\"))\n",
    "\n",
    "if (num==1):\n",
    "    print(num1+num2)\n",
    "\n",
    "elif (num==2):\n",
    "    print(num1-num2)\n",
    "\n",
    "elif (num==3):\n",
    "    print(num1*num2)\n",
    "\n",
    "elif (num==4):\n",
    "    print(num1/num2)\n",
    "else:\n",
    "    print(\"invalid operation\")"
   ]
  }
 ],
 "metadata": {
  "kernelspec": {
   "display_name": "Python 3",
   "language": "python",
   "name": "python3"
  },
  "language_info": {
   "codemirror_mode": {
    "name": "ipython",
    "version": 3
   },
   "file_extension": ".py",
   "mimetype": "text/x-python",
   "name": "python",
   "nbconvert_exporter": "python",
   "pygments_lexer": "ipython3",
   "version": "3.7.6"
  }
 },
 "nbformat": 4,
 "nbformat_minor": 4
}
