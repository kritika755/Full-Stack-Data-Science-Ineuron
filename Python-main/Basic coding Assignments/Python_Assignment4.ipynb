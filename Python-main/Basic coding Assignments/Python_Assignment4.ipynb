{
 "cells": [
  {
   "cell_type": "code",
   "execution_count": null,
   "metadata": {},
   "outputs": [],
   "source": [
    "#1factorial of a number\n",
    "num=int(input(\"enter a number\"))\n",
    "r=1\n",
    "for i in range(1,num+1):\n",
    "    r=r*i\n",
    "print(\"factorial of the given number is \"+str(r))\n",
    "\n"
   ]
  },
  {
   "cell_type": "code",
   "execution_count": null,
   "metadata": {},
   "outputs": [],
   "source": [
    "#2display multiplication table\n",
    "num=int(input(\"enter a number whose table you want to display\"))\n",
    "\n",
    "for i in range (1,11):\n",
    "    a=num*i\n",
    "    print(str(num) + \"X\" +str(i)+ \"=\"+ str(a))\n",
    "    "
   ]
  },
  {
   "cell_type": "code",
   "execution_count": 10,
   "metadata": {},
   "outputs": [
    {
     "name": "stdout",
     "output_type": "stream",
     "text": [
      "enter the number of elements you want in fibonacci series5\n",
      "0\n",
      "1\n",
      "1\n",
      "2\n",
      "3\n"
     ]
    }
   ],
   "source": [
    "#3fibonacci series\n",
    "\n",
    "n=int(input(\"enter the number of elements you want in fibonacci series\"))\n",
    "a=0\n",
    "b=1\n",
    "sum=0\n",
    "count=1\n",
    "while(count<=n):\n",
    "    print(sum)\n",
    "    count+=1\n",
    "    a=b\n",
    "    b=sum\n",
    "    sum=a+b"
   ]
  },
  {
   "cell_type": "code",
   "execution_count": null,
   "metadata": {},
   "outputs": [],
   "source": [
    "#4 check armstrong number\n",
    "n=int(input(\"enter a number\"))\n",
    "num=n\n",
    "a=0\n",
    "arr=[]\n",
    "while(n>0):\n",
    "    a=n%10\n",
    "    n=int(n/10)\n",
    "    arr.append(a)\n",
    "  \n",
    "sum=0;\n",
    "for i in range(0,len(arr)):\n",
    "    b=arr[i]*arr[i]*arr[i]\n",
    "    sum=sum+b\n",
    "    \n",
    "if(sum==num):\n",
    "    print(\"this number is an armstrong number\")\n",
    "else:\n",
    "    print(\"this number is not an armstrong number\")\n",
    "\n",
    "    "
   ]
  },
  {
   "cell_type": "code",
   "execution_count": 2,
   "metadata": {},
   "outputs": [
    {
     "name": "stdout",
     "output_type": "stream",
     "text": [
      "enter the starting number of a n interval1\n",
      "enter the ending number number of a n interval200\n",
      "1\n",
      "153\n"
     ]
    }
   ],
   "source": [
    "#5 find armstrong number in an interval\n",
    "\n",
    "a=int(input(\"enter the starting number of a n interval\"))\n",
    "b=int(input(\"enter the ending number number of a n interval\"))\n",
    "\n",
    "for i in range(a,b+1):\n",
    "    n=i\n",
    "    num=n\n",
    "    a=0\n",
    "    arr=[]\n",
    "    while(n>0):\n",
    "        a=n%10\n",
    "        n=int(n/10)\n",
    "        arr.append(a)\n",
    "  \n",
    "    sum=0;\n",
    "    for i in range(0,len(arr)):\n",
    "        b=arr[i]*arr[i]*arr[i]\n",
    "        sum=sum+b\n",
    "    \n",
    "    if(sum==num):\n",
    "        print(num)\n",
    "  \n",
    "\n",
    "    "
   ]
  },
  {
   "cell_type": "code",
   "execution_count": 2,
   "metadata": {},
   "outputs": [
    {
     "name": "stdout",
     "output_type": "stream",
     "text": [
      "enter a number5\n",
      "15\n"
     ]
    }
   ],
   "source": [
    "#6sum of natural numbers\n",
    "\n",
    "n=int(input(\"enter a number\"))\n",
    "sum=0\n",
    "for i in range(0,n+1):\n",
    "    sum=sum+i\n",
    "print(sum)\n",
    "    "
   ]
  }
 ],
 "metadata": {
  "kernelspec": {
   "display_name": "Python 3",
   "language": "python",
   "name": "python3"
  },
  "language_info": {
   "codemirror_mode": {
    "name": "ipython",
    "version": 3
   },
   "file_extension": ".py",
   "mimetype": "text/x-python",
   "name": "python",
   "nbconvert_exporter": "python",
   "pygments_lexer": "ipython3",
   "version": "3.7.6"
  }
 },
 "nbformat": 4,
 "nbformat_minor": 4
}
