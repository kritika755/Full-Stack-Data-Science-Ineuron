{
 "cells": [
  {
   "cell_type": "code",
   "execution_count": 1,
   "metadata": {},
   "outputs": [
    {
     "name": "stdout",
     "output_type": "stream",
     "text": [
      "enter a value in kms3\n",
      "in miles= 1.8641135767120018\n"
     ]
    }
   ],
   "source": [
    "#question1\n",
    "\n",
    "a=int(input(\"enter a value in kms\"))\n",
    "m=a/1.609344\n",
    "\n",
    "print(\"in miles= \"+str(m))"
   ]
  },
  {
   "cell_type": "code",
   "execution_count": 2,
   "metadata": {},
   "outputs": [
    {
     "name": "stdout",
     "output_type": "stream",
     "text": [
      "enter a value in celsius1\n",
      "in fahrenheits= 33.8\n"
     ]
    }
   ],
   "source": [
    "#question2\n",
    "\n",
    "a=int(input(\"enter a value in celsius\"))\n",
    "b=a*33.8\n",
    "\n",
    "print(\"in fahrenheits= \"+ str(b))"
   ]
  },
  {
   "cell_type": "code",
   "execution_count": 3,
   "metadata": {},
   "outputs": [
    {
     "name": "stdout",
     "output_type": "stream",
     "text": [
      "enter year1997\n",
      "enter month8\n",
      "    August 1997\n",
      "Mo Tu We Th Fr Sa Su\n",
      "             1  2  3\n",
      " 4  5  6  7  8  9 10\n",
      "11 12 13 14 15 16 17\n",
      "18 19 20 21 22 23 24\n",
      "25 26 27 28 29 30 31\n",
      "\n"
     ]
    }
   ],
   "source": [
    "#question3 display a calender\n",
    "import calendar\n",
    "\n",
    "year=int(input(\"enter year\"))\n",
    "month=int(input(\"enter month\"))\n",
    "\n",
    "print(calendar.month(year,month))\n",
    "\n"
   ]
  },
  {
   "cell_type": "code",
   "execution_count": null,
   "metadata": {},
   "outputs": [],
   "source": []
  },
  {
   "cell_type": "code",
   "execution_count": 6,
   "metadata": {},
   "outputs": [
    {
     "name": "stdout",
     "output_type": "stream",
     "text": [
      "please enter value of a,b,c in quadratic equation ax2+bx+c=0\n",
      "enter value of a1\n",
      "enter value of b-2\n",
      "enter value of c1\n",
      "the roots of this quadratic equation are 1.0   1.0\n"
     ]
    }
   ],
   "source": [
    "#question4 how to solve a quadratic equation\n",
    "\n",
    "import math\n",
    "print(\"please enter value of a,b,c in quadratic equation ax2+bx+c=0\")\n",
    "a=int(input(\"enter value of a\"))\n",
    "b=int(input(\"enter value of b\"))\n",
    "c=int(input(\"enter value of c\"))\n",
    "\n",
    "d=(b*b)-(4*a*c)\n",
    "d=math.sqrt(d)\n",
    "a1=(-b-d)/(2*a)\n",
    "a2=(-b+d)/(2*a)\n",
    "\n",
    "print(\"the roots of this quadratic equation are \"+ str(a1)+\" and \" +str(a2))\n",
    "\n"
   ]
  },
  {
   "cell_type": "code",
   "execution_count": 8,
   "metadata": {},
   "outputs": [
    {
     "name": "stdout",
     "output_type": "stream",
     "text": [
      "enter value of a1\n",
      "enter value of b2\n",
      "value of a = 2\n",
      "value of b = 1\n"
     ]
    }
   ],
   "source": [
    "#question5 swap 2 variables without temporary variable\n",
    "\n",
    "a=int(input(\"enter value of a\"))\n",
    "b=int(input(\"enter value of b\"))\n",
    "\n",
    "print(\"value of a = \"+ str(a+b-a))\n",
    "print(\"value of b = \"+str(a+b-b))"
   ]
  }
 ],
 "metadata": {
  "kernelspec": {
   "display_name": "Python 3",
   "language": "python",
   "name": "python3"
  },
  "language_info": {
   "codemirror_mode": {
    "name": "ipython",
    "version": 3
   },
   "file_extension": ".py",
   "mimetype": "text/x-python",
   "name": "python",
   "nbconvert_exporter": "python",
   "pygments_lexer": "ipython3",
   "version": "3.7.6"
  }
 },
 "nbformat": 4,
 "nbformat_minor": 4
}
