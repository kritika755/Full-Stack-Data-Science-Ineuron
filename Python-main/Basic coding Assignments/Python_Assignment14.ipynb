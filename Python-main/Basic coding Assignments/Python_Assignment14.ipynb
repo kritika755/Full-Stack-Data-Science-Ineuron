{
  "nbformat": 4,
  "nbformat_minor": 0,
  "metadata": {
    "colab": {
      "name": "Python_Assignment14",
      "provenance": [],
      "collapsed_sections": []
    },
    "kernelspec": {
      "name": "python3",
      "display_name": "Python 3"
    },
    "language_info": {
      "name": "python"
    }
  },
  "cells": [
    {
      "cell_type": "code",
      "metadata": {
        "id": "Bo8LHHtIbhL1"
      },
      "source": [
        "\"\"\"\n",
        "1)define a class with generator which can iterate numbers divisible by 7  between range(0,n)\n",
        "2) write a prog to compute the frequency of words from the input.The output should be after sorting the key alphabetically\n",
        "3)\n",
        "\"\"\""
      ],
      "execution_count": null,
      "outputs": []
    },
    {
      "cell_type": "code",
      "metadata": {
        "id": "87RvBYyF7Jgu",
        "colab": {
          "base_uri": "https://localhost:8080/"
        },
        "outputId": "d607e221-69de-43c2-8b64-5ba2f85f8d77"
      },
      "source": [
        "\"\"\"input n\n",
        "output= comma seperated values of numbers divisible by 5 and 7 in range(0,n) using generator\n",
        "\"\"\"\n",
        "\n",
        "\n",
        "n=int(input(\"enter the value of n\"))\n",
        "\n",
        "def My_Generator(n):\n",
        "  for i in range(0,n):\n",
        "    if(i%5==0 and i%7==0):\n",
        "      yield(i)\n",
        "\n",
        "\n",
        "my_num=My_Generator(n)\n",
        "\n",
        "\n",
        "\n",
        "for j in my_num:\n",
        "  print(j,end=',')\n",
        "\n",
        "\n"
      ],
      "execution_count": null,
      "outputs": [
        {
          "output_type": "stream",
          "text": [
            "enter the value of n700\n",
            "0,35,70,105,140,175,210,245,280,315,350,385,420,455,490,525,560,595,630,665,"
          ],
          "name": "stdout"
        }
      ]
    },
    {
      "cell_type": "code",
      "metadata": {
        "id": "zC84yiRh7yHS",
        "colab": {
          "base_uri": "https://localhost:8080/"
        },
        "outputId": "eafb967c-d6bf-48b5-ecd3-70ecf5c63a0b"
      },
      "source": [
        "\"\"\"input: sentence\n",
        "output: gives frequency of every word sorted alphabetically\"\"\"\n",
        "\n",
        "input_str=\"new to python or choosing between python 2 or python 3? read python 2 or python 3\"\n",
        "\n",
        "temp_list=input_str.split() # split string to get list of comma seperate words which are easy to iterate\n",
        "\n",
        "temp_list1=sorted(temp_list) # sprted function is used to sort words alphabetically\n",
        "\n",
        "\n",
        "dict={}\n",
        "\n",
        "for word in temp_list1:\n",
        "  temp=temp_list1.count(word)\n",
        "  dict[word]=temp\n",
        "\n",
        "print(dict)\n",
        "\n",
        "\n",
        "\n"
      ],
      "execution_count": null,
      "outputs": [
        {
          "output_type": "stream",
          "text": [
            "['new', 'to', 'python', 'or', 'choosing', 'between', 'python', '2', 'or', 'python', '3?', 'read', 'python', '2', 'or', 'python', '3']\n",
            "['2', '2', '3', '3?', 'between', 'choosing', 'new', 'or', 'or', 'or', 'python', 'python', 'python', 'python', 'python', 'read', 'to']\n",
            "{'2': 2, '3': 1, '3?': 1, 'between': 1, 'choosing': 1, 'new': 1, 'or': 3, 'python': 5, 'read': 1, 'to': 1}\n"
          ],
          "name": "stdout"
        }
      ]
    },
    {
      "cell_type": "code",
      "metadata": {
        "colab": {
          "base_uri": "https://localhost:8080/"
        },
        "id": "c-6hfuuc8xuG",
        "outputId": "7491fab0-daae-4470-a70d-b32775f759cb"
      },
      "source": [
        "\"\"\"define a class person and its two child class male and female. all clases have method getgender which prints male for male and female for female class.\"\"\"\n",
        "\n",
        "class Person():\n",
        "  def __init__(self):\n",
        "    pass\n",
        "  def getgender(self):\n",
        "    print(\"inside person class\")\n",
        "\n",
        "class Male(Person):\n",
        "  def __init__(self):\n",
        "    pass\n",
        "  def getgender(self):\n",
        "    print(\"inside male class\")\n",
        "\n",
        "class Female(Person):\n",
        "  def __init__(self):\n",
        "    pass\n",
        "  def getgender(self):\n",
        "    print(\"inside female class\")\n",
        "\n",
        "m1=Male()\n",
        "f1=Female()\n",
        "\n",
        "m1.getgender()\n",
        "f1.getgender()\n",
        "\n",
        "\n"
      ],
      "execution_count": null,
      "outputs": [
        {
          "output_type": "stream",
          "text": [
            "inside male class\n",
            "inside female class\n"
          ],
          "name": "stdout"
        }
      ]
    },
    {
      "cell_type": "code",
      "metadata": {
        "colab": {
          "base_uri": "https://localhost:8080/"
        },
        "id": "fgpf_cJ4Ft4y",
        "outputId": "8ac22b21-5cd9-4df9-b2d2-cd376d0dc7d0"
      },
      "source": [
        "subject=[\"I\",\"You\"]\n",
        "verb=[\"Play\",\"Love\"]\n",
        "obj=[\"Hockey\",\"Football\"]\n",
        "\n",
        "\n",
        "for i in subject:\n",
        "  for j in verb:\n",
        "    for k in obj:\n",
        "      print(i+\" \"+j+\" \"+k)\n"
      ],
      "execution_count": null,
      "outputs": [
        {
          "output_type": "stream",
          "text": [
            "I Play Hockey\n",
            "I Play Football\n",
            "I Love Hockey\n",
            "I Love Football\n",
            "You Play Hockey\n",
            "You Play Football\n",
            "You Love Hockey\n",
            "You Love Football\n"
          ],
          "name": "stdout"
        }
      ]
    },
    {
      "cell_type": "code",
      "metadata": {
        "colab": {
          "base_uri": "https://localhost:8080/"
        },
        "id": "VePwF9iOJOWu",
        "outputId": "ea1a0145-db1d-40b7-eef6-945aa046939f"
      },
      "source": [
        "import gzip\n",
        "s = b'hello world!hello world! hello world! hello world!'\n",
        "s = gzip.compress(s)\n",
        "  \n",
        "t = gzip.decompress(s)\n",
        "print(t)\n"
      ],
      "execution_count": null,
      "outputs": [
        {
          "output_type": "stream",
          "text": [
            "b'hello world!hello world! hello world! hello world!'\n"
          ],
          "name": "stdout"
        }
      ]
    },
    {
      "cell_type": "code",
      "metadata": {
        "id": "DNWm4LQRPD74"
      },
      "source": [
        ""
      ],
      "execution_count": null,
      "outputs": []
    },
    {
      "cell_type": "code",
      "metadata": {
        "colab": {
          "base_uri": "https://localhost:8080/"
        },
        "id": "KKs5wXllJtIr",
        "outputId": "c9f9c89f-6073-4c01-8e7e-00aeb1b4ef4e"
      },
      "source": [
        "\"\"\"write a binary search function which searches an item in a sorted list. the function should return the index of element to be searched in  a list\"\"\"\n",
        "\n",
        "ls=[2,4,6,8,9]\n",
        "\n",
        "\n",
        "for i in range(0,len(ls)):\n",
        "  lower_limit=0\n",
        "  ls1=ls[lower_limit:mid_val]\n",
        "  ls2=ls[mid_val:upper_limit]\n"
      ],
      "execution_count": null,
      "outputs": [
        {
          "output_type": "stream",
          "text": [
            "b'\\x1f\\x8b\\x08\\x00\\xf2\\xdf\\xed`\\x02\\xff\\xcbH\\xcd\\xc9\\xc9W(\\xcf/\\xcaIQ\\xcc@b+\\xe0\\xe4\\x00\\x00Wsk\\x122\\x00\\x00\\x00'\n",
            "b'hello world!hello world! hello world! hello world!'\n"
          ],
          "name": "stdout"
        }
      ]
    },
    {
      "cell_type": "code",
      "metadata": {
        "id": "jp2OBppNPSeV"
      },
      "source": [
        ""
      ],
      "execution_count": null,
      "outputs": []
    }
  ]
}