{
  "nbformat": 4,
  "nbformat_minor": 0,
  "metadata": {
    "colab": {
      "name": "Python_Assignment11",
      "provenance": [],
      "collapsed_sections": []
    },
    "kernelspec": {
      "name": "python3",
      "display_name": "Python 3"
    },
    "language_info": {
      "name": "python"
    }
  },
  "cells": [
    {
      "cell_type": "code",
      "metadata": {
        "id": "n-kBYLxCgQJ-"
      },
      "source": [
        "\"\"\"\n",
        "write a python programme for\n",
        "\n",
        "\n",
        "\n",
        "\n",
        "\n",
        "\n",
        "\"\"\""
      ],
      "execution_count": null,
      "outputs": []
    },
    {
      "cell_type": "code",
      "metadata": {
        "colab": {
          "base_uri": "https://localhost:8080/"
        },
        "id": "mKHluSygrK77",
        "outputId": "47093d30-2367-427f-84e3-c1a786e41f33"
      },
      "source": [
        "#1)find words which are greater than given length K\n",
        "#traversing through  a string by words.\n",
        "\n",
        "\n",
        "n=int(input(\"enter the value of fixed length k\"))\n",
        "\n",
        "input_str=input(\"enter the string\")\n",
        "\n",
        "str1=input_str.split()\n",
        "\n",
        "for i in str1:\n",
        "  if(len(i)>n):\n",
        "    print(i)"
      ],
      "execution_count": null,
      "outputs": [
        {
          "output_type": "stream",
          "text": [
            "enter the value of fixed length k4\n",
            "enter the stringmy name is kritika banerjee\n",
            "kritika\n",
            "banerjee\n"
          ],
          "name": "stdout"
        }
      ]
    },
    {
      "cell_type": "code",
      "metadata": {
        "colab": {
          "base_uri": "https://localhost:8080/"
        },
        "id": "kTp5ZKC0tHG4",
        "outputId": "0703cf0c-abc0-4281-dc15-bb17c3e5cd58"
      },
      "source": [
        "#2)for removing ith character from a string\n",
        "#traversing through a string by character\n",
        "\n",
        "input_str=input(\"enter the string\")\n",
        "n=int(input(\"enter the value of i \"))\n",
        "\n",
        "for i in range(len(input_str)):\n",
        "    if(i==n):\n",
        "      input_str1=input_str.replace(input_str[i],\"\",1)\n",
        "\n",
        "print(input_str1)\n",
        "\n",
        "\n",
        "\n",
        "\n",
        "\n"
      ],
      "execution_count": null,
      "outputs": [
        {
          "output_type": "stream",
          "text": [
            "enter the stringkritika banerjee\n",
            "enter the value of i 3\n",
            "kriika banerjee\n"
          ],
          "name": "stdout"
        }
      ]
    },
    {
      "cell_type": "code",
      "metadata": {
        "colab": {
          "base_uri": "https://localhost:8080/"
        },
        "id": "_3ce-ruoyMBS",
        "outputId": "9707a9fe-b398-4f7f-f25f-a467527aafe4"
      },
      "source": [
        "#3)split and join a string\n",
        "\n",
        "input_str=input(\"enter the string\")\n",
        "\n",
        "str2=input_str.split()\n",
        "print(str2)\n",
        "\n",
        "str3=' '.join(str2)\n",
        "print(str3)\n",
        "\n",
        "\n",
        "\n",
        "\n"
      ],
      "execution_count": null,
      "outputs": [
        {
          "output_type": "stream",
          "text": [
            "enter the stringkafka on the shore\n",
            "['kafka', 'on', 'the', 'shore']\n",
            "kafka on the shore\n"
          ],
          "name": "stdout"
        }
      ]
    },
    {
      "cell_type": "code",
      "metadata": {
        "colab": {
          "base_uri": "https://localhost:8080/"
        },
        "id": "_pFvqdtv3_ax",
        "outputId": "48894a01-eab5-482a-e0bc-98ea3f052888"
      },
      "source": [
        "#4)given string is binary or not\n",
        "\n",
        "input_str=input(\"enter the string\")\n",
        "\n",
        "b=\"01\"\n",
        "flag=0\n",
        "\n",
        "\n",
        "for i in input_str:\n",
        "    if i not in b:\n",
        "      print(\"not binary\")\n",
        "      flag=1\n",
        "      break\n",
        "if (flag==0):\n",
        "  print(\"is binary\")\n",
        "\n",
        "\n"
      ],
      "execution_count": null,
      "outputs": [
        {
          "output_type": "stream",
          "text": [
            "not binary\n"
          ],
          "name": "stdout"
        }
      ]
    },
    {
      "cell_type": "code",
      "metadata": {
        "colab": {
          "base_uri": "https://localhost:8080/"
        },
        "id": "Ad49XOjk3_hq",
        "outputId": "bdfed437-9cad-4c7d-ba00-7945c6605ec2"
      },
      "source": [
        "#5)find uncommon words from 2 strings\n",
        "\n",
        "A = \"apple banana mango\" \n",
        "B = \"banana fruits mango\"\n",
        "\n",
        "\n",
        "A=A.split()\n",
        "B=B.split()\n",
        "\n",
        "print(A)\n",
        "print(B)\n",
        "C=[]\n",
        "\n",
        "for i in A:\n",
        "  print(i)\n",
        "  if i not in B:\n",
        "    C.append(i)\n",
        "    \n",
        "\n",
        "for i in  B:\n",
        "  if i not in A:\n",
        "     C.append(i)\n",
        "print(C)\n"
      ],
      "execution_count": null,
      "outputs": [
        {
          "output_type": "stream",
          "text": [
            "['apple', 'banana', 'mango']\n",
            "['banana', 'fruits', 'mango']\n",
            "apple\n",
            "banana\n",
            "mango\n",
            "['apple', 'fruits']\n"
          ],
          "name": "stdout"
        }
      ]
    },
    {
      "cell_type": "code",
      "metadata": {
        "colab": {
          "base_uri": "https://localhost:8080/"
        },
        "id": "18rhUAQj71d9",
        "outputId": "db011705-8665-4787-87ac-f3a9862cbf52"
      },
      "source": [
        "#6)duplicate characters from a string\n",
        "\n",
        "str1=\"kafka on the shore\"\n",
        "\n",
        "print(\"the duplicate characters are\")\n",
        "for i in str1:\n",
        "  if(str1.count(i)>1):\n",
        "    print(i)\n",
        "\n"
      ],
      "execution_count": null,
      "outputs": [
        {
          "output_type": "stream",
          "text": [
            "k\n",
            "a\n",
            "k\n",
            "a\n",
            " \n",
            "o\n",
            " \n",
            "h\n",
            "e\n",
            " \n",
            "h\n",
            "o\n",
            "e\n"
          ],
          "name": "stdout"
        }
      ]
    },
    {
      "cell_type": "code",
      "metadata": {
        "colab": {
          "base_uri": "https://localhost:8080/"
        },
        "id": "pkT7jfEh--xf",
        "outputId": "f483274b-8fb0-46ed-aec5-b7779dd864ab"
      },
      "source": [
        "#7)if string contains any special characters or not\n",
        "\n",
        "str1=(\"[@_!#$%^&*()<>?/|}{~:]\")\n",
        "input_str=input(\"enter the string\")\n",
        "\n",
        "flag=0\n",
        "\n",
        "for i in input_str:\n",
        "  if i in str1:\n",
        "    print(\"this string contains special characters\")\n",
        "    flag=1\n",
        "    break\n",
        "if (flag==0):\n",
        "  print(\"this string does not contain any special characters\")"
      ],
      "execution_count": null,
      "outputs": [
        {
          "output_type": "stream",
          "text": [
            "enter the stringkafka on the shore\n",
            "this string does not contain any special characters\n"
          ],
          "name": "stdout"
        }
      ]
    },
    {
      "cell_type": "markdown",
      "metadata": {
        "id": "QAK62QZjs7jJ"
      },
      "source": [
        ""
      ]
    }
  ]
}