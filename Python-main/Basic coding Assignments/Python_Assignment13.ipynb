{
  "nbformat": 4,
  "nbformat_minor": 0,
  "metadata": {
    "colab": {
      "name": "Python_Assignment13",
      "provenance": [],
      "collapsed_sections": []
    },
    "kernelspec": {
      "name": "python3",
      "display_name": "Python 3"
    },
    "language_info": {
      "name": "python"
    }
  },
  "cells": [
    {
      "cell_type": "code",
      "metadata": {
        "id": "0jFBm8dRikjW"
      },
      "source": [
        "\n"
      ],
      "execution_count": null,
      "outputs": []
    },
    {
      "cell_type": "code",
      "metadata": {
        "colab": {
          "base_uri": "https://localhost:8080/"
        },
        "id": "Za_uVxVURAdW",
        "outputId": "f450afba-587c-43a8-8508-0fab59145414"
      },
      "source": [
        "\"\"\" \n",
        "1)calculate and print the value according a given formulae\n",
        "Q=squareroot of [(2*C*D)/H] where C=50;H=30\n",
        "d=input in a comma seperated sequence \n",
        "\n",
        "example=100,150,180\n",
        "output=18,22,24\n",
        "\"\"\"\n",
        "\n",
        "\n",
        "import math\n",
        "\n",
        "print(int(math.sqrt(333)))\n",
        "\n",
        "input=[100,150,180]\n",
        "c,h=50,30\n",
        "\n",
        "output=[]\n",
        "for d in input:\n",
        "  q=(2*c*d)/h\n",
        "  q=int(math.sqrt(q))\n",
        "  output.append(q)\n",
        "\n",
        "print(output)\n"
      ],
      "execution_count": null,
      "outputs": [
        {
          "output_type": "stream",
          "text": [
            "18\n",
            "[18, 22, 24]\n"
          ],
          "name": "stdout"
        }
      ]
    },
    {
      "cell_type": "code",
      "metadata": {
        "colab": {
          "base_uri": "https://localhost:8080/"
        },
        "id": "1QkJ1hreShK1",
        "outputId": "46b20ccb-eb43-418a-c41d-0ab78e70946b"
      },
      "source": [
        "\"\"\"\n",
        "write a prog  which takes input x,y and generates 2D array where each item is i*j where i=row index and j=column index\n",
        "\"\"\"\n",
        "x=int(input(\"enter the number of rows\"))\n",
        "y=int(input(\"enter the number of columns\"))\n",
        "\n",
        "table = [[(c*r) for c in range(y)] for r in range(x)]\n",
        "print(table)"
      ],
      "execution_count": 3,
      "outputs": [
        {
          "output_type": "stream",
          "text": [
            "enter the number of rows3\n",
            "enter the number of columns4\n",
            "[[0, 0, 0, 0], [0, 1, 2, 3], [0, 2, 4, 6]]\n"
          ],
          "name": "stdout"
        }
      ]
    },
    {
      "cell_type": "code",
      "metadata": {
        "colab": {
          "base_uri": "https://localhost:8080/"
        },
        "id": "U38Jm6LPlt2J",
        "outputId": "05eb718f-6046-4af8-8150-fb7d52d5b19b"
      },
      "source": [
        "\"\"\"\"\n",
        "input= comma seperated words\n",
        "output=those words arranged alphabetically\n",
        "\"\"\"\n",
        "\n",
        "input_str=input(\"enter comma seperated string\")\n",
        "words=input_str.split(',')\n",
        "\n",
        "type(words)\n",
        "words.sort()\n",
        "\n",
        "for i in words:\n",
        "  print(i)"
      ],
      "execution_count": 17,
      "outputs": [
        {
          "output_type": "stream",
          "text": [
            "enter comma seperated stringwithout,bag,hello,world\n",
            "bag\n",
            "hello\n",
            "without\n",
            "world\n"
          ],
          "name": "stdout"
        }
      ]
    },
    {
      "cell_type": "code",
      "metadata": {
        "colab": {
          "base_uri": "https://localhost:8080/"
        },
        "id": "KNyL2CwIoET3",
        "outputId": "ffa11c77-c6bc-4933-8c68-3105257528b0"
      },
      "source": [
        "\"\"\"\n",
        "  input=sentence\n",
        "  output= remove duplicate and sort words aplhabetically\n",
        "\n",
        "1)convert it  to list\n",
        "2)list to set(to remove duplicate)\n",
        "3)set to list again as sort can only be applied to list\n",
        "4)list.sort() to sort list elements\n",
        "\"\"\"\n",
        "\n",
        "input_str=input(\"enter comma seperated string\")\n",
        "words=input_str.split(' ')\n",
        "\n",
        "words1=set(words)\n",
        "\n",
        "ls2=list(words1)\n",
        "\n",
        "ls2.sort()\n",
        "\n",
        "\n",
        "\n",
        "print(ls2)\n",
        "\n",
        "\n",
        "\n"
      ],
      "execution_count": 23,
      "outputs": [
        {
          "output_type": "stream",
          "text": [
            "enter comma seperated stringi m happy m\n",
            "['happy', 'i', 'm']\n"
          ],
          "name": "stdout"
        }
      ]
    },
    {
      "cell_type": "code",
      "metadata": {
        "colab": {
          "base_uri": "https://localhost:8080/"
        },
        "id": "gneOYrkbta0r",
        "outputId": "5b75d591-9af3-42e1-95fb-3b2867fe240d"
      },
      "source": [
        "\"\"\"\n",
        "count number of letters and digits in a string\n",
        "\"\"\"\n",
        "\n",
        "input_str=input(\"enter string\")\n",
        "\n",
        "list1=list(input_str)\n",
        "\n",
        "\n",
        "a,b=0,0\n",
        "for i in list1:\n",
        "  if i.isalpha():\n",
        "    a=a+1\n",
        "  elif i.isnumeric():\n",
        "    b=b+1\n",
        "\n",
        "\n",
        "print(\"letters=\"+ str(a))\n",
        "print(\"numbers=\"+ str(b))\n",
        "\n",
        "\n",
        "\n"
      ],
      "execution_count": 33,
      "outputs": [
        {
          "output_type": "stream",
          "text": [
            "enter comma seperated stringhello wrolds 121\n",
            "letters=11\n",
            "numbers=3\n"
          ],
          "name": "stdout"
        }
      ]
    },
    {
      "cell_type": "code",
      "metadata": {
        "colab": {
          "base_uri": "https://localhost:8080/"
        },
        "id": "PSETVv4rvYXz",
        "outputId": "53685501-418c-4eb9-a869-c9062bdab759"
      },
      "source": [
        "\"\"\"\n",
        "check validity of input password:\n",
        "criteria:\n",
        "atleast i small alphabet,1 capital alphabet,1 number from 0-9,i character$%@,min length 6 , max length 12  \n",
        "\"\"\"\n",
        "\n",
        "input_str=input(\"enter string\")\n",
        "\n",
        "l1=input_str.split(',')\n",
        "l2=list()\n",
        "\n",
        "for i in range(0,len(l1)):\n",
        "  flag=0\n",
        "  if not len(l1[i])>6 and len(l1[i])<12:\n",
        "          flag=-1\n",
        "  if not re.search(\"[a-z]\", l1[i]):\n",
        "        flag = -1\n",
        "        \n",
        "  elif not re.search(\"[A-Z]\", l1[i]):\n",
        "        flag = -1\n",
        "        \n",
        "  elif not re.search(\"[0-9]\", l1[i]):\n",
        "        flag = -1\n",
        "        \n",
        "  elif not re.search(\"[_@$]\", l1[i]):\n",
        "        flag = -1\n",
        "  if(flag==0):\n",
        "    l2.append(l1[i])\n",
        "\n",
        "print(l2)\n",
        "\n",
        "\n"
      ],
      "execution_count": 58,
      "outputs": [
        {
          "output_type": "stream",
          "text": [
            "enter stringkritika,Adv@124\n",
            "['kritika,Adv@124']\n"
          ],
          "name": "stdout"
        }
      ]
    },
    {
      "cell_type": "code",
      "metadata": {
        "colab": {
          "base_uri": "https://localhost:8080/"
        },
        "id": "oYlz20QJ1l25",
        "outputId": "22fe0ab5-a451-441c-c135-fb1e2328d9de"
      },
      "source": [
        ""
      ],
      "execution_count": 61,
      "outputs": [
        {
          "output_type": "stream",
          "text": [
            "['123@Abcdef']\n"
          ],
          "name": "stdout"
        }
      ]
    }
  ]
}