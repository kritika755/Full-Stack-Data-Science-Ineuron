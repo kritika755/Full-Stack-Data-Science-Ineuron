{
  "nbformat": 4,
  "nbformat_minor": 0,
  "metadata": {
    "colab": {
      "name": "Python_Assignment15",
      "provenance": [],
      "collapsed_sections": []
    },
    "kernelspec": {
      "name": "python3",
      "display_name": "Python 3"
    },
    "language_info": {
      "name": "python"
    }
  },
  "cells": [
    {
      "cell_type": "code",
      "metadata": {
        "colab": {
          "base_uri": "https://localhost:8080/"
        },
        "id": "GAUXvcbW7py4",
        "outputId": "bd6b1ce8-7790-4ee8-b7a2-ff4f4ff84b1b"
      },
      "source": [
        "n=int(input(\"enter the value of n\"))\n",
        "\n",
        "def My_Generator(n):\n",
        "    for i in range(0,n):\n",
        "      if(i%5==0 and i%7==0):\n",
        "        yield(i)\n",
        "\n",
        "\n",
        "my_num=My_Generator(n)\n",
        "\n",
        "\n",
        "\n",
        "for j in my_num:\n",
        "  print(j,end=',')\n",
        "\n"
      ],
      "execution_count": 4,
      "outputs": [
        {
          "output_type": "stream",
          "text": [
            "enter the value of n100\n",
            "0,35,70,"
          ],
          "name": "stdout"
        }
      ]
    },
    {
      "cell_type": "code",
      "metadata": {
        "colab": {
          "base_uri": "https://localhost:8080/"
        },
        "id": "eiuyCqbZNFWt",
        "outputId": "58516f42-4db1-4119-8291-f96fed171bc3"
      },
      "source": [
        "n=int(input(\"enter the value of n\"))\n",
        "\n",
        "def My_Generator(n):\n",
        "    for i in range(0,n):\n",
        "      if(i%2==0):\n",
        "        yield(i)\n",
        "\n",
        "\n",
        "my_num=My_Generator(n)\n",
        "\n",
        "\n",
        "\n",
        "for j in my_num:\n",
        "  print(j,end=',')\n",
        "\n",
        "\n"
      ],
      "execution_count": 5,
      "outputs": [
        {
          "output_type": "stream",
          "text": [
            "enter the value of n30\n",
            "0,2,4,6,8,10,12,14,16,18,20,22,24,26,28,"
          ],
          "name": "stdout"
        }
      ]
    },
    {
      "cell_type": "code",
      "metadata": {
        "id": "dZSP6V0TNFdI"
      },
      "source": [
        "#fibonacci series using list comprehension\n"
      ],
      "execution_count": null,
      "outputs": []
    },
    {
      "cell_type": "code",
      "metadata": {
        "colab": {
          "base_uri": "https://localhost:8080/"
        },
        "id": "fAtXpiuFPsUA",
        "outputId": "af78fa4f-4731-4352-e934-ff8d44e5b2d8"
      },
      "source": [
        "input_str=\"johndoe@google.com\"\n",
        "\n",
        "temp=input_str.index('@')\n",
        "\n",
        "print(input_str[0:temp])\n",
        "\n",
        "\n"
      ],
      "execution_count": 12,
      "outputs": [
        {
          "output_type": "stream",
          "text": [
            "johndoe\n"
          ],
          "name": "stdout"
        }
      ]
    },
    {
      "cell_type": "code",
      "metadata": {
        "id": "Ys2aFAgtULum",
        "colab": {
          "base_uri": "https://localhost:8080/"
        },
        "outputId": "438ec747-3a32-413c-f88d-e076767eb3ce"
      },
      "source": [
        "\"\"\"  define a class named shape and its subclass square . the square has init function which takes length as an argument . both have an area function which takes\n",
        "length as argument. both have area function  which can print area of  shape   where shape's area is 0 by default\"\"\"\n",
        "\n",
        "\n",
        "class Shape():\n",
        "  def __init__(self):\n",
        "    pass\n",
        "\n",
        "  def area(self):\n",
        "    print(\"0\")\n",
        "\n",
        "class Square(Shape):\n",
        "  def __init__(self,length):\n",
        "    self.length=length\n",
        "  \n",
        "  def area(self,length):\n",
        "    print(self.length*self.length)\n",
        "\n",
        "s1=Square(5)\n",
        "s1.area(5)\n"
      ],
      "execution_count": 20,
      "outputs": [
        {
          "output_type": "stream",
          "text": [
            "25\n"
          ],
          "name": "stdout"
        }
      ]
    }
  ]
}