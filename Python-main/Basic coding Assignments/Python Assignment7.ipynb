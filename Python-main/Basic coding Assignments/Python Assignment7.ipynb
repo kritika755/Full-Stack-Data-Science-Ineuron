{
 "cells": [
  {
   "cell_type": "code",
   "execution_count": null,
   "metadata": {},
   "outputs": [],
   "source": [
    "\n",
    "\n",
    "\n",
    "\n"
   ]
  },
  {
   "cell_type": "code",
   "execution_count": 45,
   "metadata": {},
   "outputs": [
    {
     "name": "stdout",
     "output_type": "stream",
     "text": [
      "enter the length of an array you want to enter6\n",
      "1\n",
      "3\n",
      "2\n",
      "88\n",
      "9\n",
      "54\n",
      "88\n"
     ]
    }
   ],
   "source": [
    "#2 find largest element in array\n",
    "\n",
    "num =int(input(\"enter the length of an array you want to enter\"))\n",
    "\n",
    "arr=[]\n",
    "for i in range(0,num):\n",
    "    ele=int(input())\n",
    "    arr.append(ele)\n",
    "    \n",
    "print(max(arr))\n"
   ]
  },
  {
   "cell_type": "code",
   "execution_count": 42,
   "metadata": {},
   "outputs": [
    {
     "name": "stdout",
     "output_type": "stream",
     "text": [
      "enter the length of an array you want to enter3\n",
      "1\n",
      "2\n",
      "3\n",
      "sum = 6\n"
     ]
    }
   ],
   "source": [
    "# 1 sum of array\n",
    "\n",
    "num =int(input(\"enter the length of an array you want to enter\"))\n",
    "\n",
    "arr=[]\n",
    "s=0\n",
    "for i in range(0,num):\n",
    "    ele=int(input())\n",
    "    arr.append(ele)\n",
    "    \n",
    "for i in range(0,num):\n",
    "       s+=arr[i]\n",
    "        \n",
    "print(\"sum = \"+ str(s))"
   ]
  },
  {
   "cell_type": "code",
   "execution_count": 1,
   "metadata": {},
   "outputs": [
    {
     "name": "stdout",
     "output_type": "stream",
     "text": [
      "enter the length of an array you want to enter10\n",
      "1\n",
      "2\n",
      "3\n",
      "4\n",
      "5\n",
      "6\n",
      "7\n",
      "8\n",
      "9\n",
      "10\n",
      "enter the number you want to rotate the array with. please enter positive for right shift and negative for left shift3\n",
      "the resultant array is\n",
      "8\n",
      "9\n",
      "10\n",
      "1\n",
      "2\n",
      "3\n",
      "4\n",
      "5\n",
      "6\n",
      "7\n"
     ]
    }
   ],
   "source": [
    "#3 array rotation\n",
    "\n",
    "\n",
    "num =int(input(\"enter the length of an array you want to enter\"))\n",
    "\n",
    "arr=[]\n",
    "for i in range(0,num):\n",
    "    ele=int(input())\n",
    "    arr.append(ele)\n",
    "    \n",
    "n=int(input(\"enter the number you want to rotate the array with. please enter positive for right shift and negative for left shift\"))\n",
    "\n",
    "arr1=[0]*num\n",
    "\n",
    "\n",
    "for i in range(0,num):\n",
    "    index=i+n\n",
    "    if(index<num):\n",
    "        arr1[index]=arr[i]\n",
    "    else:\n",
    "        index=index-num\n",
    "        arr1[index]=arr[i]\n",
    "\n",
    "\n",
    "print(\"the resultant array is\")\n",
    "for i in range(0,num):\n",
    "    print(arr1[i]);\n",
    "    \n",
    "    "
   ]
  },
  {
   "cell_type": "code",
   "execution_count": 10,
   "metadata": {},
   "outputs": [
    {
     "name": "stdout",
     "output_type": "stream",
     "text": [
      "enter the length of an array you want to enter5\n",
      "1\n",
      "2\n",
      "3\n",
      "4\n",
      "5\n",
      "[3, 4, 5, 1, 2]\n"
     ]
    }
   ],
   "source": [
    "#4 split a given array and add the first part to the end\n",
    "\n",
    "num =int(input(\"enter the length of an array you want to enter\"))\n",
    "\n",
    "A=[]\n",
    "for i in range(0,num):\n",
    "    ele=int(input())\n",
    "    A.append(ele)\n",
    "    \n",
    "mid=int(num/2)\n",
    "\n",
    "B=A[0:mid]\n",
    "C=A[mid:num]\n",
    "\n",
    "print(C+B)\n",
    "\n"
   ]
  },
  {
   "cell_type": "code",
   "execution_count": 6,
   "metadata": {},
   "outputs": [
    {
     "name": "stdout",
     "output_type": "stream",
     "text": [
      "enter the length of an array you want to enter3\n",
      "1\n",
      "2\n",
      "3\n",
      "monolothic\n"
     ]
    }
   ],
   "source": [
    "#5 check if a given array is monotonic\n",
    "\n",
    "num =int(input(\"enter the length of an array you want to enter\"))\n",
    "\n",
    "A=[]\n",
    "for i in range(0,num):\n",
    "    ele=int(input())\n",
    "    A.append(ele)\n",
    "    \n",
    "if (all(A[i] <= A[i + 1] for i in range(len(A) - 1)) or\n",
    "            all(A[i] >= A[i + 1] for i in range(len(A) - 1))):\n",
    "    print(\"monolothic\")\n",
    "else:\n",
    "    print(\"not monolothic array\")\n",
    "    "
   ]
  }
 ],
 "metadata": {
  "kernelspec": {
   "display_name": "Python 3",
   "language": "python",
   "name": "python3"
  },
  "language_info": {
   "codemirror_mode": {
    "name": "ipython",
    "version": 3
   },
   "file_extension": ".py",
   "mimetype": "text/x-python",
   "name": "python",
   "nbconvert_exporter": "python",
   "pygments_lexer": "ipython3",
   "version": "3.7.6"
  }
 },
 "nbformat": 4,
 "nbformat_minor": 4
}
