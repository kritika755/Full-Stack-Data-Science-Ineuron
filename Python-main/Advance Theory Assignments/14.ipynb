{
 "cells": [
  {
   "cell_type": "markdown",
   "id": "27583d73",
   "metadata": {},
   "source": [
    "<b>1. Is an assignment operator such as += only a convenience? Can it actually result in faster performance at run time?</b>\n",
    "\n",
    "Ans.\n",
    "\n",
    "+= adds a number/string to a variable, changing the variable itself in the process. Meaning, ( += ) adds the value of the right operand to a variable and assigns the result to the variable.\n",
    "\n",
    "Not really it result in faster performance because it take lesser time to operate and we dont require a new"
   ]
  },
  {
   "cell_type": "markdown",
   "id": "33fac67b",
   "metadata": {},
   "source": [
    "<b>2. In most computer languages, what is the minimum number of statements you’d need to write instead of the Python statement a, b = a + b, a?</b>\n",
    "\n",
    "Ans. In C programming it takes minimum 3 number of statement.\n",
    "\n",
    "c=a+b\n",
    "\n",
    "a=c\n",
    "\n",
    "b=a"
   ]
  },
  {
   "cell_type": "markdown",
   "id": "fc6ae951",
   "metadata": {},
   "source": [
    "<b>3. What’s the most efficient way to initialize a list of 100 integers to 0 in Python?</b>\n",
    "\n",
    "Ans. By using list comprehension in reverse order\n",
    "\n",
    "l=[i for i in range(100,-1,-1)]\n",
    "print(l)"
   ]
  },
  {
   "cell_type": "markdown",
   "id": "a42c2f3b",
   "metadata": {},
   "source": [
    "<b>4. What’s the most efficient way of initializing a list of 99 integers with the pattern 1, 2, 3 repeated? Show precisely how to do that, if possible.</b>\n",
    "\n"
   ]
  },
  {
   "cell_type": "markdown",
   "id": "a90ad95c",
   "metadata": {},
   "source": [
    "l=[i for i in range(1,4)]\n",
    "l2=[]\n",
    "for i in range(33):\n",
    "    \n",
    "    l2.extend(l)\n",
    "    \n",
    "print(l2,'\\n')\n",
    "print(f'Number of integers ares: {len(l2)}')"
   ]
  },
  {
   "cell_type": "markdown",
   "id": "e7f653f6",
   "metadata": {},
   "source": [
    "<b>5. If you’re running a Python program from within IDLE, describe how to most efficiently print a multidimensional list.</b>\n",
    "\n",
    "Ans.\n",
    "\n",
    "It is very simple procedure. We first need a variable and assign it a multidimensional list."
   ]
  },
  {
   "cell_type": "code",
   "execution_count": 2,
   "id": "7bee254f",
   "metadata": {},
   "outputs": [
    {
     "name": "stdout",
     "output_type": "stream",
     "text": [
      "[[2, 4, 6, 8, 10], [3, 6, 9, 12, 15], [4, 8, 12, 16, 20]]\n"
     ]
    }
   ],
   "source": [
    "a = [[2, 4, 6, 8, 10], [3, 6, 9, 12, 15], [4, 8, 12, 16, 20]]\n",
    "print(a)"
   ]
  },
  {
   "cell_type": "markdown",
   "id": "ac351f0e",
   "metadata": {},
   "source": [
    "<b>6. Can you use list comprehension on a string? If so, how?</b>"
   ]
  },
  {
   "cell_type": "code",
   "execution_count": 4,
   "id": "ed2ddb76",
   "metadata": {},
   "outputs": [
    {
     "name": "stdout",
     "output_type": "stream",
     "text": [
      "['s', 'h', 'i', 'v', 'a', 'n', 's', 'h']\n"
     ]
    }
   ],
   "source": [
    "l=[i for i in 'shivansh']\n",
    "print(l)"
   ]
  },
  {
   "cell_type": "markdown",
   "id": "121f83d2",
   "metadata": {},
   "source": [
    "<b>7. How can you get help on a user-written Python program from the command line? From within IDLE?<b>\n",
    "\n",
    "    help(print)"
   ]
  },
  {
   "cell_type": "markdown",
   "id": "d1bc04e9",
   "metadata": {},
   "source": [
    "<b>8. Functions are said to be “first-class objects” in Python but not in most other languages, such as C++ or Java. What is something you can do with a Python function (callable object) that you cannot do in C or C++?</b>\n",
    "\n",
    "Ans.\n",
    "\n",
    "In python there is a beautiful things which we can do with the function. It is called first class function because of the following reasons:\n",
    "\n",
    "1) It can be use as an argument\n",
    "\n",
    "2) It can be use in return by some other function\n",
    "\n",
    "3) It can be act as variable and we can assign some value to it"
   ]
  },
  {
   "cell_type": "markdown",
   "id": "96a238ef",
   "metadata": {},
   "source": [
    "<b>9. What’s the difference between a wrapper, a wrapped function, and a decorator?</b>\n",
    "\n",
    "Ans.\n",
    "\n",
    "Wrappers: It also refers to decorators. It allows programmers to modify the behavior of function or class.\n",
    "\n",
    "Wrapper Function: Wrapper functions can be used as an interface to adapt to the existing codes, so as to save from modifying the codes back and forth. It helps in allowing some codes to run repeadtedly.\n",
    "\n",
    "Decorators: It allows to wrap another function in order to extend the behavior of the wrapped function, without permanently modifying it.\n"
   ]
  },
  {
   "cell_type": "markdown",
   "id": "3060fe6a",
   "metadata": {},
   "source": [
    "<b>11. From the standpoint of the Python language, what is the one change that needs to be made to a function to turn it into a generator function?</b>\n",
    "\n",
    "Ans.\n",
    "\n",
    "Just replace return with yield"
   ]
  },
  {
   "cell_type": "markdown",
   "id": "91def931",
   "metadata": {},
   "source": [
    "<b>12. Name at least one advantage of generators.</b>\n",
    "\n",
    "Ans\n",
    "\n",
    "It helps in creating an iterator which do not store all the items at once. This saves the memory and also system do not get hang.\n",
    "\n",
    "It takes the value one by one when we required and throw it out one by one by using next function when and only we required. It doesnot give the whole items at onces. It onlt gives when it is needed."
   ]
  },
  {
   "cell_type": "code",
   "execution_count": null,
   "id": "d7c158bd",
   "metadata": {},
   "outputs": [],
   "source": []
  }
 ],
 "metadata": {
  "kernelspec": {
   "display_name": "Python 3",
   "language": "python",
   "name": "python3"
  },
  "language_info": {
   "codemirror_mode": {
    "name": "ipython",
    "version": 3
   },
   "file_extension": ".py",
   "mimetype": "text/x-python",
   "name": "python",
   "nbconvert_exporter": "python",
   "pygments_lexer": "ipython3",
   "version": "3.8.8"
  }
 },
 "nbformat": 4,
 "nbformat_minor": 5
}
