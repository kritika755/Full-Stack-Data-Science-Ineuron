{
 "cells": [
  {
   "cell_type": "markdown",
   "id": "7247c115",
   "metadata": {},
   "source": [
    "<b>1. How would you describe the relationship of a class to its instances? For example, is it a one-to-one or a one-to-many relationship?</b>\n",
    "\n",
    "A instance of a class is refer to an object of a class through which we refer all the class class attributes , class methods and everything which comes inside the class.\n",
    "\n",
    "An instace of a class is an entity which refer to a class. It symbolize the class. So we can say that it one to many relationship kind of thing.\n",
    "\n",
    "For example, we have an iphone. It is an object as the person who made that phone has refer its name as Iphone thats why we call it an Iphone. BUt at the sam etime that Ipihone is beong to some smartphone class. So we can say that it is an instance of a smartphone class."
   ]
  },
  {
   "cell_type": "markdown",
   "id": "584f6868",
   "metadata": {},
   "source": [
    "<b>2. What kind of information is held only in an instance?</b>\n",
    "\n",
    "Ans.\n",
    "\n",
    "It store the values of the class attributes. When we give the attributes in the init function as an argument then the values which are stored in the object will get passed to it and attributes gets initialised and later on init function passed these values to the class"
   ]
  },
  {
   "cell_type": "markdown",
   "id": "b03cdced",
   "metadata": {},
   "source": [
    "<b>3. What information is held in a class?</b>\n",
    "\n",
    "Ans.\n",
    "\n",
    "A class contains many information. It contains all the information about the attributes, methods function,etc. All kind of behaviours which class have in the form of methods and attributes are held inside the class."
   ]
  },
  {
   "cell_type": "markdown",
   "id": "bda8c13e",
   "metadata": {},
   "source": [
    "<b>4. What exactly is a method, and precisely how does it differ from a standard function?</b>\n",
    "\n",
    "Ans\n",
    "\n",
    "Amethod is refer to the function only but a difference is that, a method can be perfom inside the class by using the class object. It cannot be perform outside the class.\n",
    "\n",
    "While a standard function is a function which can be access outside any where. Working of both the method and std function is same but there is a difference in accessability.\n",
    "\n"
   ]
  },
  {
   "cell_type": "markdown",
   "id": "b65e991e",
   "metadata": {},
   "source": [
    "<b>5. Does Python support inheritance, and, if so, what is the syntax?</b>\n",
    "\n",
    "Ans.\n",
    "\n",
    "Yes python do support inheritence in Oops concept. It is possible in python to inherit the behaviour and properties of some other class so as to avoid writing the same code again and again when it is required. We can even do the multiple inheritence. Meaning we can inherit the property of more than onw class into a single class also. Order is matter Followig is the syntax:\n",
    "\n",
    "\n",
    "class A:\n",
    "\n",
    "    pass\n",
    "    \n",
    "class B(A):\n",
    "\n",
    "    pass\n",
    "\n",
    "class C(B):\n",
    "\n",
    "    pass\n",
    "\n",
    "class D(B,A):\n",
    "\n",
    "    pass"
   ]
  },
  {
   "cell_type": "markdown",
   "id": "d0b85dcf",
   "metadata": {},
   "source": [
    "<b>6. To what extent does Python support encapsulation (making instance or class variables private)?</b>\n",
    "\n",
    "Ans.\n",
    "\n",
    "Python supports encapsulation. It combine all the behaviour, properties and attributes of a class inside a single class object. So that we do not have to perform separate separate operation through different means. We just need a single object to perfomr all those task. It also hide the implementation of the task. Means we do ot required to focus on the backend task. We just need to foucs on the output, result when any operation si performed.\n",
    "\n",
    "If we talk about making instance or class variables private, then yes. It makes them both of them private so that there is not chances of changing or modifying the code or some values. So we just make those attributes and methods private which have a severe impact on the codes, so that any other person can figure it it out by just looking into it."
   ]
  },
  {
   "cell_type": "markdown",
   "id": "541e904d",
   "metadata": {},
   "source": [
    "<b>7. What precisely is the difference between a class variable and an instance variable?</b>\n",
    "\n",
    "Ans.\n",
    "\n",
    "Class variable It is a variable which is declare below the class and outside the init function, where as, instance variable are declared inside the init function.\n",
    "\n",
    "Class variable need a class name to get called as well as it can be called by the class instance name also, where as a instance variable can be called by an object name but not with the class name.\n",
    "\n",
    "Class variable* is Global to all the objects of a class means it is shared accross every object, while, instance variable is only for th eunique data values which are stored by the class instance.\n",
    "\n",
    "Class variable could not over"
   ]
  },
  {
   "cell_type": "markdown",
   "id": "58e24dac",
   "metadata": {},
   "source": [
    "<b>8. Within a class’s method definitions, when does self need to be used, if at all?</b>\n",
    "\n",
    "Ans.\n",
    "\n",
    "First of all self is nothing but an object pointer which is pointing to object itself. We need an object namespace to call the func/method which is define inside the class. So that is why there is a pointer 'self' which is refering to an class object pointer. With this self.method we can use the method"
   ]
  },
  {
   "cell_type": "markdown",
   "id": "9bf066f0",
   "metadata": {},
   "source": [
    "<b>9. What is the difference between the _ add and the radd _ methods?</b>\n",
    "\n",
    "Ans.\n",
    "\n",
    "add is simply an built method which add the two items when it is pased, whose class is having this method. Like integer and string class have this method and in case of integer this method will add up the two values and in case of string class this will concatenate the two items.\n",
    "\n",
    "radd This is inside the integer class but not in string class. This also add up the two number. But the the difference is, radd is only called if the left object does not have an add method, or that method does not know how to add the two objects. If both the classes have add method then this will not called."
   ]
  },
  {
   "cell_type": "markdown",
   "id": "d44df8a0",
   "metadata": {},
   "source": [
    "<b>10. When do you really need a reflection method? When do you not need it, even though you support the operation in question?</b>\n",
    "\n",
    "Ans.\n",
    "\n",
    "Reflection is a facility where you can query an object about its attributes at runtime. Meaning, we can modify the object variable, create new class atrributes during the run without initialising inside the constructor. It is then display by invoking it as an instance variable. This is an reflection facility. This is needed when we have sudden requirement of any new attributes that has to work with the class."
   ]
  },
  {
   "cell_type": "markdown",
   "id": "b75dd262",
   "metadata": {},
   "source": [
    "<b>11. What is the _ iadd _ method called?</b>\n",
    "\n",
    "Ans.\n",
    "\n",
    "It is an inplace add method which is an built in method. Like that of add , it also adds the two value but unlike _ add _ , it stores that value which was calculated.\n",
    "\n",
    "iadd is actually storing value its adding into the instance variable and return the new value"
   ]
  },
  {
   "cell_type": "markdown",
   "id": "f5afcb7b",
   "metadata": {},
   "source": [
    "<b>12. Is the _ init _ method inherited by subclasses? What do you do if you need to customize its behavior within a subclass?</b>\n",
    "\n",
    "Ans.\n",
    "\n",
    "init method is basically used for constructing the object variables meaning, initialisation of object variables happen, where the class attributes gets the values from the class instance where the values are stored. So when we want to inherit the attributes/variables of the class then we need to inherit the init method also. This implies that whatever the variables were initialise in the parent class, those will also get initialise in the subclass. We uses super() method in order to call the parent class.\n",
    "\n",
    "We can customise the behaviour of the subclass by declaring some new other attributes and initialising them. However these new attributes will only get accessed by the subclass object. We could use overridding technique also for changing the behaviour of the init method without defining it separately inside the subclass"
   ]
  },
  {
   "cell_type": "code",
   "execution_count": null,
   "id": "43cf0ad7",
   "metadata": {},
   "outputs": [],
   "source": []
  },
  {
   "cell_type": "code",
   "execution_count": null,
   "id": "2e298db6",
   "metadata": {},
   "outputs": [],
   "source": []
  },
  {
   "cell_type": "code",
   "execution_count": null,
   "id": "001dd699",
   "metadata": {},
   "outputs": [],
   "source": []
  },
  {
   "cell_type": "code",
   "execution_count": null,
   "id": "b58e4cba",
   "metadata": {},
   "outputs": [],
   "source": []
  }
 ],
 "metadata": {
  "kernelspec": {
   "display_name": "Python 3",
   "language": "python",
   "name": "python3"
  },
  "language_info": {
   "codemirror_mode": {
    "name": "ipython",
    "version": 3
   },
   "file_extension": ".py",
   "mimetype": "text/x-python",
   "name": "python",
   "nbconvert_exporter": "python",
   "pygments_lexer": "ipython3",
   "version": "3.8.8"
  }
 },
 "nbformat": 4,
 "nbformat_minor": 5
}
