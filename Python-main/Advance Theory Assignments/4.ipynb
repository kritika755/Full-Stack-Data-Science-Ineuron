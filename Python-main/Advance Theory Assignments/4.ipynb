{
 "cells": [
  {
   "cell_type": "markdown",
   "id": "54ce506e",
   "metadata": {},
   "source": [
    "<b>1. What two operator overloading methods can you use to support iteration in your classes?</b>\n",
    "\n",
    "Ans.\n",
    "\n",
    "1) iter ()\n",
    "\n",
    "2) next ()\n",
    "\n",
    "These are the two operator overloading methods that can be used for iteration in the class"
   ]
  },
  {
   "cell_type": "markdown",
   "id": "8cf994b6",
   "metadata": {},
   "source": [
    "<b>2. What two operator overloading methods handle printing, and in what contexts?</b>\n",
    "\n",
    "\n",
    "Ans.\n",
    "\n",
    "1) ' str '\n",
    "\n",
    "2) ' repr '\n",
    "\n",
    "str is used to print the string representation of an object in such a way that it is readable to the user. Only informatic part. We can also say that only inofficial string representation of the object is taken care by using this method. We cannot reuse it to build the object again for the respective class.\n",
    "\n",
    "repr is used to print the official information about the object. Meaning, the representation of object in a string format in such a way that it is understand by the machine only, however user can also understand but its representation is not that much readable. It can be reuse for constructing the object again of respective class."
   ]
  },
  {
   "cell_type": "markdown",
   "id": "627b74e3",
   "metadata": {},
   "source": [
    "<b>3. How can you intercept slice operations in a class?</b>\n",
    "\n",
    "Ans.\n",
    "\n",
    "In a class we use a dunder method ' getitem ' for slicing operation.\n",
    "\n",
    "we use getitem (self,index) method with class object and this returns the value at that index position. It is use for list, tuple as well as dictionary also."
   ]
  },
  {
   "cell_type": "markdown",
   "id": "fdf71289",
   "metadata": {},
   "source": [
    "<b>5. When should you provide operator overloading?</b>\n",
    "\n",
    "Ans.\n",
    "\n",
    "method use : ' add__ '\n",
    "\n",
    "o1=class(1)\n",
    "\n",
    "o2=class(2)\n",
    "\n",
    "o3=class('a')\n",
    "\n",
    "o4=class('b')\n",
    "\n",
    "print(o1+o2) : 3\n",
    "\n",
    "print(o3+o4) : ab\n",
    "\n",
    "When we want to get the different result based on data type by performing the similar operaton with the use of a same operator operator on different data type values which a class object stored in it then we use this operator overloading methods and with the use of the respective operator in between the objects of a class we can perform operations between the data.\n",
    "\n"
   ]
  },
  {
   "cell_type": "code",
   "execution_count": null,
   "id": "3efd4ea4",
   "metadata": {},
   "outputs": [],
   "source": []
  },
  {
   "cell_type": "code",
   "execution_count": null,
   "id": "541e88ae",
   "metadata": {},
   "outputs": [],
   "source": []
  }
 ],
 "metadata": {
  "kernelspec": {
   "display_name": "Python 3",
   "language": "python",
   "name": "python3"
  },
  "language_info": {
   "codemirror_mode": {
    "name": "ipython",
    "version": 3
   },
   "file_extension": ".py",
   "mimetype": "text/x-python",
   "name": "python",
   "nbconvert_exporter": "python",
   "pygments_lexer": "ipython3",
   "version": "3.8.8"
  }
 },
 "nbformat": 4,
 "nbformat_minor": 5
}
