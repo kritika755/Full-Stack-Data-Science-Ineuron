{
 "cells": [
  {
   "cell_type": "markdown",
   "id": "dd3ad193",
   "metadata": {},
   "source": [
    "<b>1. What are the advantages, if any, of the built-in array package?</b>\n",
    "\n",
    "Ans.\n",
    "\n",
    "Arrays represent multiple data items of the same type using a single name.\n",
    "In arrays, the elements can be accessed randomly by using the index number.\n",
    "Arrays allocate memory in contiguous memory locations for all its elements. Hence there is no chance of extra memory being allocated in case of arrays. This avoids memory overflow or shortage of memory in arrays."
   ]
  },
  {
   "cell_type": "markdown",
   "id": "6ed13f83",
   "metadata": {},
   "source": [
    "<b>2. What are some limitations of the array package?</B>\n",
    "\n",
    "Ans\n",
    "\n",
    "The number of elements to be stored in an array should be known in advance.\n",
    "\n",
    "An array is a static structure (which means the array is of fixed size). Once declared the size of the array cannot be modified. The memory which is allocated to it cannot be increased or decreased.\n",
    "\n",
    "Insertion and deletion are quite difficult in an array as the elements are stored in consecutive memory locations and the shifting operation is costly.\n",
    "\n",
    "Allocating more memory than the requirement leads to wastage of memory space and less allocation of memory also leads to a problem.\n",
    "\n"
   ]
  },
  {
   "cell_type": "markdown",
   "id": "fd003416",
   "metadata": {},
   "source": [
    "<b>3. State some major differences between the array package and numpy.</b>\n",
    "\n",
    "Ans.\n",
    "\n",
    "The array package doesn't provide any help with numerical calculation with the items insdie it in number form while NumPy give you a wide variety of numerical operations\n",
    "\n",
    "An array is a single dimensional entity which hold the numerical data, while numpy can have more than 1 dimension.\n",
    "\n",
    "In case of array, item can be accessed by its index position and it is easy task while in numpy item is accessed by its column and row index, which makes it slightly time taking. Same goes with appending operation.\n",
    "\n",
    "In case of array we do not form a tabular structure, while in numpy it forms a tabular structure\n",
    "\n",
    "<b>4. Describe the differences between the empty, ones, and zeros functions.</b>\n",
    "\n",
    "Ans.\n",
    "\n",
    "empty function: An empty function is a function that does not contain any statement within its body. If you try to write a function definition without any statement in python ,it will return an error. To avoid this, we use pass statement. pass is a special statement in Python that does nothing. It only works as a dummy statement\n",
    "\n",
    "ones: This function returns a new array of given shape and data type, where the element’s value is 1.\n",
    "\n",
    "zeros: This function returns a new array of given shape and data type, where the element’s value is 0\n",
    "\n",
    "<b>5. What is the role of the callable argument in the fromfunction function used to create new arrays?</b>\n",
    "\n",
    "Ans.\n",
    "\n",
    "Its function is to execute the function over each coordinate and the resulting array. The function is called with N parameters, where N is the rank of shape. Each parameter represents the coordinates of the array varying along a specific axis.\n",
    "\n",
    "<b>6. What happens when a numpy array is combined with a single-value operand (a scalar, such as an int or a floating-point value) through addition, as in the expression A + n?</b>\n",
    "\n",
    "Ans.\n",
    "\n",
    "If any scaler value such as integer is added to the numpy array then all the elements inside the array will add that value in it.\n",
    "\n"
   ]
  },
  {
   "cell_type": "markdown",
   "id": "3430cc34",
   "metadata": {},
   "source": [
    "<b>7. Can combined operation-assign operators (such as += or *=) be used in array-to-scalar operation? What is the effect?</b>\n",
    "\n",
    "Ans.\n",
    "\n",
    "It will do the operation as per operators. Like if we use + operand it will update the current array by adding and when we use '*', it will update by multiplying."
   ]
  },
  {
   "cell_type": "markdown",
   "id": "720330a5",
   "metadata": {},
   "source": [
    "<b>8. Can fixed-length strings be included in a numpy array? What happens when a string of longer length is assigned to such an array?</b>\n",
    "\n",
    "Ans,\n",
    "\n",
    "Yes it is possible that we can include a string of fixed length in numpy array. The dtype of any numpy array containing string values is the maximum length of any string present in the array.\n",
    "\n",
    "Once set, it will only be able to store new string having length not more than the maximum length at the time of the creation. If we try to reassign some another string value having length greater than the maximum length of the existing elements, it simply discards all the values beyond the maximum length accept upto those values which are under the limit"
   ]
  },
  {
   "cell_type": "markdown",
   "id": "03a56953",
   "metadata": {},
   "source": [
    "<b>9. What happens when two numpy arrays are combined through an operation such as addition (+) or multiplication (*)? What requirements must be met to combine two numpy arrays?</b>\n",
    "\n",
    "Ans.\n",
    "\n",
    "It will simply add or multiply element to element at same position.\n",
    "\n",
    "The only requirement which must be met are:\n",
    "\n",
    "* Data type should be same\n",
    "* Shape of the two matrices must be same"
   ]
  },
  {
   "cell_type": "markdown",
   "id": "403cc71b",
   "metadata": {},
   "source": [
    "<b>11. What are three distinct ways, using both standard Python and its packages, to get the standard deviation of a large set of data? Rank the three of them according to execution speed.</b>"
   ]
  },
  {
   "cell_type": "code",
   "execution_count": null,
   "id": "89b1993e",
   "metadata": {},
   "outputs": [],
   "source": []
  },
  {
   "cell_type": "markdown",
   "id": "f953d839",
   "metadata": {},
   "source": [
    "<b>12. What is the dimensionality of an array produced by a Boolean mask?</b>\n",
    "\n",
    "Ans. It will be same as that of the given array.\n",
    "\n",
    "Example we have two aray of same dimensions say 1, then the array produced by given array will be of same dimension"
   ]
  },
  {
   "cell_type": "code",
   "execution_count": null,
   "id": "b6756edb",
   "metadata": {},
   "outputs": [],
   "source": []
  },
  {
   "cell_type": "code",
   "execution_count": null,
   "id": "2fd63833",
   "metadata": {},
   "outputs": [],
   "source": []
  }
 ],
 "metadata": {
  "kernelspec": {
   "display_name": "Python 3",
   "language": "python",
   "name": "python3"
  },
  "language_info": {
   "codemirror_mode": {
    "name": "ipython",
    "version": 3
   },
   "file_extension": ".py",
   "mimetype": "text/x-python",
   "name": "python",
   "nbconvert_exporter": "python",
   "pygments_lexer": "ipython3",
   "version": "3.8.8"
  }
 },
 "nbformat": 4,
 "nbformat_minor": 5
}
