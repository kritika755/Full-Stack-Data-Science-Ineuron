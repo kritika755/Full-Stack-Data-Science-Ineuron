{
 "cells": [
  {
   "cell_type": "markdown",
   "id": "86112f0f",
   "metadata": {},
   "source": [
    "<b>1. What is multiple inheritance?</b>\n",
    "\n",
    "\n",
    "Ans.\n",
    "\n",
    "Inheritence means one class is deriving data from the single parent class but in case of multiple inheritance, a subclass is derived from more than one parent classes. Suppose A and B are the classes and class C is deriving data from A and B. We can say this is multiple inheritence\n",
    "\n"
   ]
  },
  {
   "cell_type": "markdown",
   "id": "475419ba",
   "metadata": {},
   "source": [
    "<b>2. What is delegation?</b>\n",
    "\n",
    "Lets say a is a object of parent class A and b is a object of child class B. Then b can use all the variables and methods of parent class A to perform the operations. This is known as delegation."
   ]
  },
  {
   "cell_type": "markdown",
   "id": "5b34626b",
   "metadata": {},
   "source": [
    "<b>3. What is composition?</b>\n",
    "\n",
    "Ans.\n",
    "\n",
    "Suppose there are multiple class say, class A, class B and class C and their respective objects are a,b and c. So when we are going to call the final class C and we wanted to utilise the items of the other previous classes A and B then we use their objects a and b when we create the final class object c by passing a and b into that.    "
   ]
  },
  {
   "cell_type": "markdown",
   "id": "7d725c7f",
   "metadata": {},
   "source": [
    "<b>4. What are bound methods?</b>\n",
    "\n",
    "Ans.\n",
    "\n",
    "Function whcih is defined inside the class and take the instance of a class as its first argument is known as bound function. This is because it bounded by the class. It can only perfrom the operation by using the class object."
   ]
  },
  {
   "cell_type": "markdown",
   "id": "2f5fc2af",
   "metadata": {},
   "source": [
    "<b>5. What are pseudoprivate attributes used for?</b>\n",
    "\n",
    "Ans.\n",
    "\n",
    "When we create a class and put some attributes inside it, those can be used by us within the class. But it may happen that someone other than us can also be use the same attributes with similar name from outside or inside the class. So in that case there will be change in our program codes. This will change the entire meaning of that code. So in order to make it safe from other users we use double underscore ( ) as a notation for private attribues or methods So that others cannot use it and if they able to use it then they cannot be able to access it."
   ]
  },
  {
   "cell_type": "code",
   "execution_count": null,
   "id": "aa04d4c6",
   "metadata": {},
   "outputs": [],
   "source": []
  }
 ],
 "metadata": {
  "kernelspec": {
   "display_name": "Python 3",
   "language": "python",
   "name": "python3"
  },
  "language_info": {
   "codemirror_mode": {
    "name": "ipython",
    "version": 3
   },
   "file_extension": ".py",
   "mimetype": "text/x-python",
   "name": "python",
   "nbconvert_exporter": "python",
   "pygments_lexer": "ipython3",
   "version": "3.8.8"
  }
 },
 "nbformat": 4,
 "nbformat_minor": 5
}
