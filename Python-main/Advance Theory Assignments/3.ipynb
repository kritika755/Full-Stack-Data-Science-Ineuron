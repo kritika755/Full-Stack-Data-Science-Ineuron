{
 "cells": [
  {
   "cell_type": "markdown",
   "id": "52a4af9f",
   "metadata": {},
   "source": [
    "<b>1. What is an abstract superclass?</b>\n",
    "\n",
    "Ans.\n",
    "\n",
    "A parent class is well known as super class from where child class inherit the data.\n",
    "\n",
    "An abstract superclass a parent class from where the subclassess or child classes ae derived or we can say, subclasses can inherit the property of the parent class in the form of data"
   ]
  },
  {
   "cell_type": "markdown",
   "id": "8a56bdec",
   "metadata": {},
   "source": [
    "<b>2. What happens when a simple assignment statement appears at the top level of a class statement?</b>\n",
    "\n",
    "Ans.\n",
    "\n",
    "It is act a simple variable having some value stored in it which can be used as a normal variable while calling any function or variables inside the class.\n",
    "\n",
    "It does not come sunder the class. It is global in nature for the class. It can be used directly by with class or with class object or with any other subclass."
   ]
  },
  {
   "cell_type": "markdown",
   "id": "7baff8cb",
   "metadata": {},
   "source": [
    "<b>3. Why might a class need to manually call the init method in a superclass?</b>\n",
    "\n",
    "Ans.\n",
    "\n",
    "init is a built in function. It is well known as constructor. It takes the variables, which pass as an argument inside this function, and passes those data to the class.\n",
    "\n"
   ]
  },
  {
   "cell_type": "markdown",
   "id": "dc2cc85c",
   "metadata": {},
   "source": [
    "<b>5. How does a class’s local scope differ from that of a function?</b>\n",
    "\n",
    "Ans.\n",
    "\n",
    "class local scope and function local scope is differ from each other.\n",
    "\n",
    "In case of function, local scope means, whatever the variable is declare locally that will be only operate inside the function. It cannot be use outside the function. Th emost important thing is it can only be used within one function only under which it is declared.\n",
    "\n",
    "In case of class, local scope means, whatever the variable is declared under the class or inside the class that will be used within a class only either by binding it with object of a class or with class itself. Unlike the function, local scope of a variable is not restricted with in one function only. IN class it can be used with any number of function which are defined inside the class."
   ]
  },
  {
   "cell_type": "code",
   "execution_count": null,
   "id": "3fdc5431",
   "metadata": {},
   "outputs": [],
   "source": []
  }
 ],
 "metadata": {
  "kernelspec": {
   "display_name": "Python 3",
   "language": "python",
   "name": "python3"
  },
  "language_info": {
   "codemirror_mode": {
    "name": "ipython",
    "version": 3
   },
   "file_extension": ".py",
   "mimetype": "text/x-python",
   "name": "python",
   "nbconvert_exporter": "python",
   "pygments_lexer": "ipython3",
   "version": "3.8.8"
  }
 },
 "nbformat": 4,
 "nbformat_minor": 5
}
