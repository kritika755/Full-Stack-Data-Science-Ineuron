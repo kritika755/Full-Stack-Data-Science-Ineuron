{
 "cells": [
  {
   "cell_type": "markdown",
   "id": "e6246d66",
   "metadata": {},
   "source": [
    "<b>1. What is the main point of OOP in Python?</b>\n",
    "\n",
    "\n",
    "Ans. The main aim of OOP is to bind together the data and the functions that operate on them so that no other part of the code can access this data except for the functions which are within the class.\n",
    "\n",
    "Another reason we may say is, increasing the implementation,modularbility, using encapsulation technqiues, etc.\n"
   ]
  },
  {
   "cell_type": "markdown",
   "id": "65a7c9c3",
   "metadata": {},
   "source": [
    "<b>2. Where does an inheritance search look for an attribute?</b>\n",
    "\n",
    "Ans. On using inheritence concept, the object of the child class will search all the properties of the parent class and inherit all those"
   ]
  },
  {
   "cell_type": "markdown",
   "id": "e096377b",
   "metadata": {},
   "source": [
    "<b>3. What is the difference between a class object and an instance object?</b>\n",
    "\n",
    "Ans. Actually both are same somehow. The object is something which we can feel or it is real world entity but Instance is a virtual copy of an object. We cannot see it.\n",
    "\n",
    "In programming terms, when we define a class and assign some variable like 'obj_name=class_name()', this will create an instance of a class which is refering to the class actually. When we refer some object which has some property and characteristics, we can say that it is an instance of a particular class. Example, iphone is an object and we call it because apple name dit. So it is an object. But in the same time it is also an smartphone. It belong to some smartphone class. So we now refer it an instance of a smartphone class.\n",
    "\n",
    "And if we create a variable like 'var_name=10', here 'var_name' is a object for integer 10. So 'instance' is nothing but something which represents the class and a virtual copy of an object"
   ]
  },
  {
   "cell_type": "markdown",
   "id": "943cf942",
   "metadata": {},
   "source": [
    "<b>4. Why is the first argument in a class’s method function special?</b>\n",
    "\n",
    "Ans. First arguement of a class method is always an instance of a class. It means it is an instance of a class which is pointing to itself saying that this fucntion is belong to this instance of this particular class."
   ]
  },
  {
   "cell_type": "markdown",
   "id": "923ac586",
   "metadata": {},
   "source": [
    "<b>5. What is the init method used for?</b>\n",
    "\n",
    "Ans. 'init' method is also refer to as contructor function. Because all the data refering to the instance of particular class gets initialize under this function with the values which are given when class object/instance is created."
   ]
  },
  {
   "cell_type": "markdown",
   "id": "65c16fd1",
   "metadata": {},
   "source": [
    "<b>6. How do you create a class instance?</b> \n",
    "\n",
    "\n",
    "Ans. It is very simple.\n",
    "\n",
    "class human: pass\n",
    "\n",
    "class_instance=human() #here we have created the class instance"
   ]
  },
  {
   "cell_type": "markdown",
   "id": "e2b3e983",
   "metadata": {},
   "source": [
    "<b>7. How do you create a class?</b>\n",
    "\n",
    "Ans.\n",
    "\n",
    "By using 'class' key word we can create a class.\n",
    "\n",
    "class human:\n",
    "\n",
    " pass"
   ]
  },
  {
   "cell_type": "markdown",
   "id": "90ad884a",
   "metadata": {},
   "source": [
    "<b>8. How do you specify a class’s superclasses?</b>\n",
    "\n",
    "Ans. A superclass is a class from where the child class derived the data or we can say inherit the data. It uses the function called super()\n",
    "\n",
    "Parent class- Person\n",
    "\n",
    "Child class- Student\n",
    "\n",
    "class student(person):\n",
    "\n",
    "    def __init__(self,variable_of_child_class, *args):   \n",
    "\n",
    "    super(student,self).__init__(*args)                 \n",
    "\n",
    "    self.var1=variable_of_child_class   \n",
    " "
   ]
  },
  {
   "cell_type": "code",
   "execution_count": null,
   "id": "bcc6a660",
   "metadata": {},
   "outputs": [],
   "source": []
  }
 ],
 "metadata": {
  "kernelspec": {
   "display_name": "Python 3",
   "language": "python",
   "name": "python3"
  },
  "language_info": {
   "codemirror_mode": {
    "name": "ipython",
    "version": 3
   },
   "file_extension": ".py",
   "mimetype": "text/x-python",
   "name": "python",
   "nbconvert_exporter": "python",
   "pygments_lexer": "ipython3",
   "version": "3.8.8"
  }
 },
 "nbformat": 4,
 "nbformat_minor": 5
}
