{
 "cells": [
  {
   "cell_type": "markdown",
   "id": "f5035355",
   "metadata": {},
   "source": [
    "<b>1. What is the try statement for?</b>\n",
    "\n",
    "Ans.\n",
    "\n",
    "Under try block we write the codes in which there is a chances of exception. Whatever the codes is, we write those inside the try block"
   ]
  },
  {
   "cell_type": "markdown",
   "id": "790dd4a9",
   "metadata": {},
   "source": [
    "<b>2. What are the two common variations of the try statement?</b>\n",
    "\n",
    "Ans.\n",
    "\n",
    "1) try with except block: When try fails except will execute. When try passess, except do not execute\n",
    "\n",
    "2) try with except and else: When try will execute then only else block will exceute. If try fails then only except block will exceute not else block"
   ]
  },
  {
   "cell_type": "markdown",
   "id": "7cd3efa3",
   "metadata": {},
   "source": [
    "<b>3. What is the raise statement for?</b>\n",
    "\n",
    "Ans.\n",
    "\n",
    "raise keyword is use for raising out the error by ourself. Means we can define the which kind of error we want to raise. We can also simply write down the text message to show the user if error encountered"
   ]
  },
  {
   "cell_type": "markdown",
   "id": "da4756ad",
   "metadata": {},
   "source": [
    "<b>4. What is the assert statement designed to do, and what other statement is it like?</b>\n",
    "\n",
    "Ans.\n",
    "\n",
    "assert statement is for raising assertion error. When any script is not True under the assert keyword, it will raise the assertion error. Else it will simply print.\n",
    "\n",
    "Another statement which work the same is raise keyword"
   ]
  },
  {
   "cell_type": "markdown",
   "id": "34c7ca5f",
   "metadata": {},
   "source": [
    "<b>5. What is the with/as statement designed to do, and what other statement is it like?</b>\n"
   ]
  },
  {
   "cell_type": "code",
   "execution_count": null,
   "id": "e08d30f0",
   "metadata": {},
   "outputs": [],
   "source": []
  },
  {
   "cell_type": "code",
   "execution_count": null,
   "id": "d0fac499",
   "metadata": {},
   "outputs": [],
   "source": []
  }
 ],
 "metadata": {
  "kernelspec": {
   "display_name": "Python 3",
   "language": "python",
   "name": "python3"
  },
  "language_info": {
   "codemirror_mode": {
    "name": "ipython",
    "version": 3
   },
   "file_extension": ".py",
   "mimetype": "text/x-python",
   "name": "python",
   "nbconvert_exporter": "python",
   "pygments_lexer": "ipython3",
   "version": "3.8.8"
  }
 },
 "nbformat": 4,
 "nbformat_minor": 5
}
