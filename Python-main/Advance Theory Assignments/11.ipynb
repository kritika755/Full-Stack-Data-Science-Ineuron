{
 "cells": [
  {
   "cell_type": "markdown",
   "id": "6142063e",
   "metadata": {},
   "source": [
    "<b>1. What is a metaclass?</b>\n",
    "\n",
    "Ans.\n",
    "\n",
    "In object-oriented programming, a metaclass is a class whose instances are classes. Just as an ordinary class defines the behavior of certain objects, a metaclass defines the behavior of certain classes and their instances. A class is itself an instance of a metaclass.\n",
    "\n"
   ]
  },
  {
   "cell_type": "markdown",
   "id": "82a2a6d6",
   "metadata": {},
   "source": [
    "<b>2. How do you declare the metaclass of a class?</b>\n",
    "\n",
    "Ans.\n",
    "\n",
    "type is a default metaclass in python."
   ]
  },
  {
   "cell_type": "markdown",
   "id": "ef0b1f94",
   "metadata": {},
   "source": [
    "<b>3. How do class decorators overlap with metaclasses for managing classes?</b> \n",
    "\n",
    "Ans.\n",
    "\n",
    "Anything which we can do with a class decorator, can be done with a custom metaclass. We just need to apply the functionality of the \"decorator function\", i.e., the one that takes a class object and modifies it, in the course of the metaclass's new or init that make the class object.\n",
    "\n",
    "Decorartors rebind a class name to a result which could be called and metaclass route the class creation through a callable object but both hooks can be used for similar class objects. Meta class augment a class after they create it. Decorator simply augment and return the original class object. Decorators may have a slight disadvantage in this role if a new class must be defined because original class has been already created"
   ]
  },
  {
   "cell_type": "markdown",
   "id": "485663e1",
   "metadata": {},
   "source": [
    "<b>4. How do class decorators overlap with metaclasses for managing instances?</b>\n",
    "\n",
    "Ans.\n",
    "\n",
    "We can use both class decorator and metaclasses to manage class instances by inserting a wrapper object to catch the instance creation calls. Decorators may rebind the class name to a cllabale run on instance creation that retains the original class object. Metaclasses can also do the same but they might have some disadvantage as they need to create a new object for that"
   ]
  },
  {
   "cell_type": "code",
   "execution_count": null,
   "id": "40cfda4b",
   "metadata": {},
   "outputs": [],
   "source": []
  },
  {
   "cell_type": "code",
   "execution_count": null,
   "id": "5674f4f6",
   "metadata": {},
   "outputs": [],
   "source": []
  }
 ],
 "metadata": {
  "kernelspec": {
   "display_name": "Python 3",
   "language": "python",
   "name": "python3"
  },
  "language_info": {
   "codemirror_mode": {
    "name": "ipython",
    "version": 3
   },
   "file_extension": ".py",
   "mimetype": "text/x-python",
   "name": "python",
   "nbconvert_exporter": "python",
   "pygments_lexer": "ipython3",
   "version": "3.8.8"
  }
 },
 "nbformat": 4,
 "nbformat_minor": 5
}
