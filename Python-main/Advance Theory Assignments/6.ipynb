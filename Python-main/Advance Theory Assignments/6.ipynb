{
 "cells": [
  {
   "cell_type": "markdown",
   "id": "192a7707",
   "metadata": {},
   "source": [
    "<b>1. Name three things that exception processing is good for.</b>\n",
    "\n",
    "Ans.\n",
    "\n",
    "1) We can raise our own exception in our own so so that it is easy to understand. However default exception can also happen.\n",
    "\n",
    "2) The readability of error is simple and nice.\n",
    "\n",
    "3) We can able to check the correct code and at which step there is a wrong code. We give exception in every step also to check its correctness\n",
    "\n",
    "4) We can logg the exceptions"
   ]
  },
  {
   "cell_type": "markdown",
   "id": "33e419b3",
   "metadata": {},
   "source": [
    "<b>2. What happens to an exception if you don’t do anything special to handle it?</b>\n",
    "\n",
    "Ans.\n",
    "\n",
    "If nothing special is done to handle the exception then if code is not correctly then then the whole programm will not able able to proceesed further and in the display lon error description comes. Secondaly it is very dangrous also. Suppose there is a very crucial program written and if it gets failed and we havent written any special exception then no one can ever understand the issue and problem and he cannot tell the programm about the code\n",
    "\n"
   ]
  },
  {
   "cell_type": "markdown",
   "id": "9e77c1b2",
   "metadata": {},
   "source": [
    "<b>3. How can your script recover from an exception?</b>\n",
    "\n",
    "Ans.\n",
    "\n",
    "We use try and except block as a exception handling. If in a try bloack any exception occure, the will will correct it as soon as possible."
   ]
  },
  {
   "cell_type": "markdown",
   "id": "b79d6d73",
   "metadata": {},
   "source": [
    "<b>4. Name two ways to trigger exceptions in your script.</b>\n",
    "\n",
    "Ans.\n",
    "\n",
    "1) By using Exception keyword under try and except block. We can do mistake in try block and writing our own exception msg while printing.\n",
    "\n",
    "2) By using raise keyword we can give any exception by defining the kind of error we wanted to raise and then we can use to print it."
   ]
  },
  {
   "cell_type": "markdown",
   "id": "7a4f4d95",
   "metadata": {},
   "source": [
    "<b>5. Name two ways to specify actions to be run at termination time, whether an exception occurs or not</b>\n",
    "\n",
    "Ans.. 1) Using Finally block: This will get executed whether or not exception occur or dont occur.\n",
    "\n",
    "2) Uisng simple print statement outside the try and except block. "
   ]
  },
  {
   "cell_type": "code",
   "execution_count": null,
   "id": "6cc5cfe3",
   "metadata": {},
   "outputs": [],
   "source": []
  },
  {
   "cell_type": "code",
   "execution_count": null,
   "id": "72a9a46e",
   "metadata": {},
   "outputs": [],
   "source": []
  }
 ],
 "metadata": {
  "kernelspec": {
   "display_name": "Python 3",
   "language": "python",
   "name": "python3"
  },
  "language_info": {
   "codemirror_mode": {
    "name": "ipython",
    "version": 3
   },
   "file_extension": ".py",
   "mimetype": "text/x-python",
   "name": "python",
   "nbconvert_exporter": "python",
   "pygments_lexer": "ipython3",
   "version": "3.8.8"
  }
 },
 "nbformat": 4,
 "nbformat_minor": 5
}
