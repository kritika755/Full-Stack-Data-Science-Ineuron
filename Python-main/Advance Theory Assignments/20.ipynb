{
 "cells": [
  {
   "cell_type": "markdown",
   "id": "252dbbcf",
   "metadata": {},
   "source": [
    "<b>1. Compare and contrast the advantages and disadvantages of the float and Decimal classes.</b>\n",
    "\n",
    "Ans.\n",
    "\n",
    "\n",
    "Decimal class\n",
    "\n",
    "Provides support for fast correctly-rounded decimal floating point arithmetic.\n",
    "\n",
    "It gives the provison to represent the number in a representative way so that it is clearly undertood by the user.\n",
    "\n",
    "give you the exact arithmatic operation result like we use to do normally,\n",
    "\n",
    "Object exposes all required parts of the standard. When needed, we can change the rounding and signal handling. This includes an option to enforce exact arithmetic by using exceptions to block any inexact operations.\n",
    "\n",
    "Objects share many properties with the other built-in numeric types such as float and int. All of the usual math operations and special methods apply.\n",
    "\n",
    "It can be constructed from integers, strings, floats, or tuples. Construction from an integer or a float performs an exact conversion of the value of that integer or float.\n",
    "\n",
    "It is faster way to get precise value which we human work and have a smaller range than the float\n",
    "\n",
    "Decimal types are better suited for financial and monetary calculations\n",
    "\n",
    "The Decimal has a default precision of 28 places\n",
    "\n",
    "Floating class\n",
    "\n",
    "It do not represent the exact precise value value.\n",
    "\n",
    "It gives the value close to the result.\n",
    "\n",
    "The float object exposes only a modest portion of its capabilities\n",
    "\n",
    "Some values cannot be exactly represented in a float data type. For instance, storing the 0.1 value in float (which is a binary floating point value) variable we get only an approximation of the value. Similarly, the 1/3 value cannot be represented exactly in decimal floating point type.\n",
    "\n",
    "Float types is best suited for scientific calculations\n",
    "\n",
    "The float has default precision of 18 places."
   ]
  },
  {
   "cell_type": "markdown",
   "id": "464a94dd",
   "metadata": {},
   "source": [
    "<b>2. Consider two objects: Decimal('1.200') and Decimal('1.2'). In what sense are these the same object? Are these just two ways of representing the exact same value, or do they correspond to different internal states?</b>"
   ]
  },
  {
   "cell_type": "markdown",
   "id": "59fc5122",
   "metadata": {},
   "source": [
    "<b>3. What happens if Decimal('1.200') and Decimal('1.2') are tested for equality</b>"
   ]
  },
  {
   "cell_type": "markdown",
   "id": "8a7e7e81",
   "metadata": {},
   "source": [
    "<b>4. Why is it usually better to initialize a Decimal object from a string than from a floating-point value</b>\n",
    "\n",
    "Ans.\n",
    "\n",
    "Because while initilising with a string, this will give the exact value of the number available in the quotes ' '. While in case of floating point value, it first has to convert from float then using the round operation we will get the result with the desired precision"
   ]
  },
  {
   "cell_type": "markdown",
   "id": "977ff19f",
   "metadata": {},
   "source": [
    "<b>5. How easy is it to combine Decimal objects with integers in an arithmetic expression?</b>\n",
    "\n",
    "Ans.\n",
    "\n",
    "It is that much easy as we do normal calculation. How ever if we do not specify the number as a string then in order to get in decimal form we fisrt need to convert the value from float into decimal object and use the round method to get the precise value."
   ]
  },
  {
   "cell_type": "markdown",
   "id": "e00a067d",
   "metadata": {},
   "source": [
    "<b>6. How easy is it to combine Decimal objects and floating-point values?</b>\n",
    "\n",
    "we need to first convert the floating point value into decimal object by using using Decimal class and then we can use round function to get a value precised upto given number."
   ]
  },
  {
   "cell_type": "markdown",
   "id": "933b2bcb",
   "metadata": {},
   "source": [
    "<b>7. Give an example of a quantity that can be represented with absolute precision by using the Fraction class but not the Decimal class.</b>\n",
    "\n"
   ]
  },
  {
   "cell_type": "markdown",
   "id": "8b201961",
   "metadata": {},
   "source": [
    "<b>10. What is the relationship between the Fraction class and the integer type (int)? Containment or inheritance?</b>\n",
    "\n",
    "Ans. Fraction class contains the pair of intgers values as numerator and denomenator and gives the result in the form of fraction. Since the values are belong to integer class an these class object are using by another object of fraction class. So here Containment is happening."
   ]
  },
  {
   "cell_type": "code",
   "execution_count": null,
   "id": "7f5c1099",
   "metadata": {},
   "outputs": [],
   "source": []
  },
  {
   "cell_type": "code",
   "execution_count": null,
   "id": "feee27fd",
   "metadata": {},
   "outputs": [],
   "source": []
  },
  {
   "cell_type": "code",
   "execution_count": null,
   "id": "ca7f730d",
   "metadata": {},
   "outputs": [],
   "source": []
  },
  {
   "cell_type": "code",
   "execution_count": null,
   "id": "c51603a6",
   "metadata": {},
   "outputs": [],
   "source": []
  },
  {
   "cell_type": "code",
   "execution_count": null,
   "id": "bdfbb33b",
   "metadata": {},
   "outputs": [],
   "source": []
  },
  {
   "cell_type": "code",
   "execution_count": null,
   "id": "48fb49de",
   "metadata": {},
   "outputs": [],
   "source": []
  },
  {
   "cell_type": "code",
   "execution_count": null,
   "id": "8033f9cb",
   "metadata": {},
   "outputs": [],
   "source": []
  },
  {
   "cell_type": "code",
   "execution_count": null,
   "id": "56926f2a",
   "metadata": {},
   "outputs": [],
   "source": []
  }
 ],
 "metadata": {
  "kernelspec": {
   "display_name": "Python 3",
   "language": "python",
   "name": "python3"
  },
  "language_info": {
   "codemirror_mode": {
    "name": "ipython",
    "version": 3
   },
   "file_extension": ".py",
   "mimetype": "text/x-python",
   "name": "python",
   "nbconvert_exporter": "python",
   "pygments_lexer": "ipython3",
   "version": "3.8.8"
  }
 },
 "nbformat": 4,
 "nbformat_minor": 5
}
