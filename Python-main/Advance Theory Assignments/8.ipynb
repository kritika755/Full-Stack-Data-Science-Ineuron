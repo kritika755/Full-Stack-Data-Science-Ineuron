{
 "cells": [
  {
   "cell_type": "markdown",
   "id": "d35c023e",
   "metadata": {},
   "source": [
    "<b>1. What are the two new constraints on user-defined exceptions in Python 3.X?</b>\n",
    "\n",
    "\n",
    "Ans.\n",
    "\n",
    "1) raise statement: With the help of raise keyword we can create a user defined exceptions\n",
    "\n",
    "2) assert statement: With the help of the assert keyword we can create an assertion error."
   ]
  },
  {
   "cell_type": "markdown",
   "id": "1d25653c",
   "metadata": {},
   "source": [
    "<b>2. How are raised class-based exceptions matched to handlers?</b>\n",
    "\n",
    "Ans\n",
    "\n",
    "We uses try and except bock for printing out the exceptions we have raised by using raise statement."
   ]
  },
  {
   "cell_type": "markdown",
   "id": "0b3144cf",
   "metadata": {},
   "source": [
    "<b>5. Why should you not use string-based exceptions anymore today?</b>\n",
    "\n",
    "Ans.\n",
    "\n",
    "String based exceptions are the messages which we give by ourself so that when error occurs then instead of original exception error message, we get that message which we have written in the string form. But this has some drawback. Suppose an error occured and we wanted to know that which kind or type of error it is, there it failed because we have given the customised error message.\n",
    "\n",
    "So even if wanted to change the mistake occured associated with that error, will be difficult to rectify.\n",
    "\n",
    " \n"
   ]
  },
  {
   "cell_type": "code",
   "execution_count": null,
   "id": "4c5b2cf2",
   "metadata": {},
   "outputs": [],
   "source": []
  },
  {
   "cell_type": "code",
   "execution_count": null,
   "id": "b458a32e",
   "metadata": {},
   "outputs": [],
   "source": []
  }
 ],
 "metadata": {
  "kernelspec": {
   "display_name": "Python 3",
   "language": "python",
   "name": "python3"
  },
  "language_info": {
   "codemirror_mode": {
    "name": "ipython",
    "version": 3
   },
   "file_extension": ".py",
   "mimetype": "text/x-python",
   "name": "python",
   "nbconvert_exporter": "python",
   "pygments_lexer": "ipython3",
   "version": "3.8.8"
  }
 },
 "nbformat": 4,
 "nbformat_minor": 5
}
