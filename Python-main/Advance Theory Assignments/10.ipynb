{
 "cells": [
  {
   "cell_type": "markdown",
   "id": "f83528aa",
   "metadata": {},
   "source": [
    "<b>1. How do getattr and getattribute differ?</b>\n",
    "\n",
    "Ans.<b>getattr</b> : It return the value of attributes which is constructed inside the class and having an class object which store its value.\n",
    "\n",
    "If the attribute is not present inside the class and if default value is provided in the syntax only then it will return that value else it will show attribute error\n",
    "\n",
    "<b>getattribute</b>: This method will invoked before looking at the actual attributes on the object. Means, if ywe have getattribute method in our class, python invokes this method for every attribute regardless whether it exists or not. "
   ]
  },
  {
   "cell_type": "markdown",
   "id": "d4a3a904",
   "metadata": {},
   "source": [
    "<b>2. How do properties and descriptors differ?</b>\n",
    "\n",
    "Ans\n",
    "\n",
    "Properties: We can bind getter, setter and delete functions with an attribute name, using the built-in property function. When we do this, each reference to an attribute looks like simple, direct access, but invokes the appropriate function of the object.\n",
    "\n",
    "Descriptors: We can bind getter, setter (and deleter) functions into a separate class. We then assign an object of this class to the attribute name. When we do this, each reference to an attribute looks like simple, direct access, but invokes an appropriate function of the Descriptor object."
   ]
  },
  {
   "cell_type": "markdown",
   "id": "0566f332",
   "metadata": {},
   "source": [
    "<b>3. How are properties and decorators related?</b>\n",
    "\n",
    "Ans.\n",
    "\n",
    "Descriptors are a low-level mechanism that lets you hook into an object's attributes being accessed. Properties are a high-level application of this; that is, properties are implemented using descriptors.\n",
    "\n",
    "The property function gives us a handy way to implement a simple descriptor without defining a separate class. Rather than create a complete class definition, we can write getter and setter method functions, and then bind these functions to an attribute name.\n",
    "\n"
   ]
  },
  {
   "cell_type": "markdown",
   "id": "5c168702",
   "metadata": {},
   "source": [
    "<b>4. What are the main functional differences between getattr and getattribute and properties and descriptors?</b>\n",
    "\n",
    "Ans.\n",
    "\n",
    "getattr : It return the value of attributes which is constructed inside the class and having an class object which store its value.\n",
    "\n",
    "If the attribute is not present inside the class and if default value is provided in the syntax only then it will return that value else it will show attribute error\n",
    "\n",
    "getattribute : This method will invoked before looking at the actual attributes on the object. Means, if ywe have getattribute method in our class, python invokes this method for every attribute regardless whether it exists or not.\n",
    "\n",
    "Properties: We can bind getter, setter and delete functions with an attribute name, using the built-in property function. When we do this, each reference to an attribute looks like simple, direct access, but invokes the appropriate function of the object.\n",
    "\n",
    "Descriptors: We can bind getter, setter (and deleter) functions into a separate class. We then assign an object of this class to the attribute name. When we do this, each reference to an attribute looks like simple, direct access, but invokes an appropriate function of the Descriptor object.\n",
    "\n"
   ]
  },
  {
   "cell_type": "code",
   "execution_count": null,
   "id": "acbb22e7",
   "metadata": {},
   "outputs": [],
   "source": []
  },
  {
   "cell_type": "code",
   "execution_count": null,
   "id": "f3aa7cb3",
   "metadata": {},
   "outputs": [],
   "source": []
  },
  {
   "cell_type": "code",
   "execution_count": null,
   "id": "fd55a84f",
   "metadata": {},
   "outputs": [],
   "source": []
  },
  {
   "cell_type": "code",
   "execution_count": null,
   "id": "2bea76ff",
   "metadata": {},
   "outputs": [],
   "source": []
  },
  {
   "cell_type": "code",
   "execution_count": null,
   "id": "50510427",
   "metadata": {},
   "outputs": [],
   "source": []
  }
 ],
 "metadata": {
  "kernelspec": {
   "display_name": "Python 3",
   "language": "python",
   "name": "python3"
  },
  "language_info": {
   "codemirror_mode": {
    "name": "ipython",
    "version": 3
   },
   "file_extension": ".py",
   "mimetype": "text/x-python",
   "name": "python",
   "nbconvert_exporter": "python",
   "pygments_lexer": "ipython3",
   "version": "3.8.8"
  }
 },
 "nbformat": 4,
 "nbformat_minor": 5
}
