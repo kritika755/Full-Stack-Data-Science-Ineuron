{
 "cells": [
  {
   "cell_type": "markdown",
   "id": "b58735a3",
   "metadata": {},
   "source": [
    "<b>1. Summarize the differences between text and binary files.</b>\n",
    "\n",
    "Ans.\n",
    "\n",
    "Text File:\n",
    "\n",
    "Bits represent character.\n",
    "\n",
    "Less prone to get corrupt as changes reflect as soon as the file is opened and can easily be undone.\n",
    "\n",
    "Can store only plain text in a file.\n",
    "\n",
    "Widely used file format and can be opened using any simple text editor.\n",
    "\n",
    "Mostly .txt and .rtf are used as extensions to text files.\n",
    "\n",
    "Easy for human to read it.\n",
    "\n",
    "Binary File:\n",
    "\n",
    "Bits represent a custom data.\n",
    "\n",
    "Can easily get corrupted, even a single bit change may corrupt the file.\n",
    "\n",
    "Can store different types of data (image, audio, text) in a single file.\n",
    "\n",
    "Developed especially for an application and may not be understood by other applications.\n",
    "\n",
    "Can have any application defined extension."
   ]
  },
  {
   "cell_type": "markdown",
   "id": "9d68cb2a",
   "metadata": {},
   "source": [
    "<b>2. What are some situations in which the use of text files would be the best solution? In what situations might you want to use binary files instead?</b>\n",
    "\n",
    "Ans.\n",
    "\n",
    "Text file: When we wan to store some information in such a way that every one can easily understand. Means readable and understood by the human not to the machine then in that case we prefer using text file. We can store any kind of information by using just simply writing the characters. We do not write the information in the form of bits and all. So that if any thing is written wrong in that and cause some erro then it can be easily handle.\n",
    "\n",
    "Binary file: When we want to make some kind of a file which can only read by the machine not by the human then we use binary file. With this file we can store the information in bits. We can only be able to see the final functionality of the file like pdf file, audio file, video files, etc. We can only see the fina function but do not see the available data inside that which helped in maing that application."
   ]
  },
  {
   "cell_type": "markdown",
   "id": "4a69cc5b",
   "metadata": {},
   "source": [
    "<b>3. What are some of the problems in reading and writing a Python integer directly to disk using binary operations?</b>\n",
    "\n",
    "Ans.\n",
    "\n",
    "While reading,read method returns a sequence of bytes as a string. With using binary operaions i.e. using bitwise operator the integers are first converted into binary and then operations are performed on bit by bit. This is a very lengthy task from usual steps. More over it is not possible for a reader to read the integers in binary format."
   ]
  },
  {
   "cell_type": "markdown",
   "id": "b5719598",
   "metadata": {},
   "source": [
    "<b>4. Name an advantage of using the with keyword instead of opening a file directly.</b>\n",
    "\n",
    "Ans.\n",
    "\n",
    "with keyword is very useful while working with a file. This gives u a privellage that u dnt need to worry about closing the file after the work is completed.\n",
    "\n",
    "Sometimes it happen that we have written a long codes and we somehow we forgot to close the file. This may lead to error with the file so we use with keyword.\n",
    "\n",
    "The with statement itself ensures proper acquisition and release of resources"
   ]
  },
  {
   "cell_type": "markdown",
   "id": "810c81ad",
   "metadata": {},
   "source": [
    "<b>5. When you read a line of text, does Python include the trailing newline? When you write a line of text, does Python append a newline?</b>\n",
    "\n",
    "Ans. read line: Yes while reading a line using object.read() function everynew line will be readed\n",
    "\n",
    "write line: No it does not append a new line. It will just write the new data side by side. If we use 'w' as a mode then this will truncate the everyline if available there in the file and write the new text which we have given. And again if we give the new text more than one time in the same code, it will get append to the next right.\n",
    "\n"
   ]
  },
  {
   "cell_type": "markdown",
   "id": "652ae4b8",
   "metadata": {},
   "source": [
    "<b>6. What file operations enable random-access operations?</b>\n",
    "\n",
    "Ans.\n",
    "\n",
    "RandomAccess File class is used for reading and writing to random access file.\n",
    "\n",
    "read and write file handling operation enable random access operations. With these operations, random access file allows you to read and write a small chunk of data at any position in the file, using a file pointer.\n",
    "\n",
    "\n",
    "Following are some of the file operations:\n",
    "\n",
    "close(): It closes this random access fle stream and releases any system resources associated with the stream.\n",
    "write(): It writes the specifed byte to this fle\n",
    "read(): It reads a byte of data from this fle.\n",
    "length(): It returns the length of this fle\n",
    "seek(long pos): moves the file pointer to a specified position in the file. The offset is measured in bytes from the beginning of the file. At this position, the next read or write occurs."
   ]
  },
  {
   "cell_type": "markdown",
   "id": "42ea3cc6",
   "metadata": {},
   "source": [
    "<b>7. When would you be most likely to use the struct package?</b>\n",
    "\n",
    "Ans.\n",
    "\n",
    "Whenever suppose we need to convert the data types (like string and number) into string of bytes we use struct module.\n",
    "\n",
    "When we need to parse the binary files of data stored in C into python we generally used this module"
   ]
  },
  {
   "cell_type": "markdown",
   "id": "2393db69",
   "metadata": {},
   "source": [
    "<b>8. When would pickling be the best choice?</b>\n",
    "\n",
    "Ans.\n",
    "\n",
    "pickling is storing some data in the binary form to further functionality or operation of application. The data gets converted into binary format by suing pickle module. It best when we are creating some application like AI application and then we need to load it for deployment.\n",
    "\n"
   ]
  },
  {
   "cell_type": "markdown",
   "id": "57a02dd0",
   "metadata": {},
   "source": [
    "<b>9. When would use of the shelve package be the best choice?</b>\n",
    "\n",
    "Ans.\n",
    "\n",
    "When we need to store the data in constant/continuos manner such that we do not require the relational data base, then we use shelve package. The shelf object defined in this module is dictionary-like object which is persistently stored in a disk file. This creates a file similar to dbm database. Only string data type can be used as key in this special dictionary object."
   ]
  },
  {
   "cell_type": "markdown",
   "id": "6f34fc12",
   "metadata": {},
   "source": [
    "<b>10. What is a special restriction when using the shelve package, as opposed to using other data dictionaries?</b>\n",
    "\n",
    "Ans.\n",
    "\n",
    "One Restriction of shelve objects is that the keys to the objects must be strings, but the values stored in a shelve object can be any Python object, as long as it can be written with the pickle module"
   ]
  },
  {
   "cell_type": "code",
   "execution_count": null,
   "id": "48390689",
   "metadata": {},
   "outputs": [],
   "source": []
  },
  {
   "cell_type": "code",
   "execution_count": null,
   "id": "f521e6cb",
   "metadata": {},
   "outputs": [],
   "source": []
  },
  {
   "cell_type": "code",
   "execution_count": null,
   "id": "6ea9bd40",
   "metadata": {},
   "outputs": [],
   "source": []
  },
  {
   "cell_type": "code",
   "execution_count": null,
   "id": "22009fbc",
   "metadata": {},
   "outputs": [],
   "source": []
  },
  {
   "cell_type": "code",
   "execution_count": null,
   "id": "9f70e037",
   "metadata": {},
   "outputs": [],
   "source": []
  },
  {
   "cell_type": "code",
   "execution_count": null,
   "id": "29465895",
   "metadata": {},
   "outputs": [],
   "source": []
  },
  {
   "cell_type": "markdown",
   "id": "841a5a9a",
   "metadata": {},
   "source": []
  }
 ],
 "metadata": {
  "kernelspec": {
   "display_name": "Python 3",
   "language": "python",
   "name": "python3"
  },
  "language_info": {
   "codemirror_mode": {
    "name": "ipython",
    "version": 3
   },
   "file_extension": ".py",
   "mimetype": "text/x-python",
   "name": "python",
   "nbconvert_exporter": "python",
   "pygments_lexer": "ipython3",
   "version": "3.8.8"
  }
 },
 "nbformat": 4,
 "nbformat_minor": 5
}
