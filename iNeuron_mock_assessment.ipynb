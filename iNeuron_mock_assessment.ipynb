{
 "cells": [
  {
   "cell_type": "code",
   "execution_count": 14,
   "id": "2e76c3f0",
   "metadata": {},
   "outputs": [],
   "source": [
    "#read the text file\n",
    "\n",
    "with open(r\"C:\\Users\\hp\\Desktop\\example.txt\",'r') as file:\n",
    "    filedata =file.read()"
   ]
  },
  {
   "cell_type": "code",
   "execution_count": 15,
   "id": "caffb0ee",
   "metadata": {},
   "outputs": [
    {
     "data": {
      "text/plain": [
       "'This is a placement assignment'"
      ]
     },
     "execution_count": 15,
     "metadata": {},
     "output_type": "execute_result"
    }
   ],
   "source": [
    "filedata"
   ]
  },
  {
   "cell_type": "code",
   "execution_count": 16,
   "id": "bc31479b",
   "metadata": {},
   "outputs": [],
   "source": [
    "#Replace the targetted string \n",
    "filedata= filedata.replace('placement','screening')"
   ]
  },
  {
   "cell_type": "code",
   "execution_count": 17,
   "id": "ba6e74a1",
   "metadata": {},
   "outputs": [
    {
     "data": {
      "text/plain": [
       "'This is a screening assignment'"
      ]
     },
     "execution_count": 17,
     "metadata": {},
     "output_type": "execute_result"
    }
   ],
   "source": [
    "filedata"
   ]
  },
  {
   "cell_type": "code",
   "execution_count": 18,
   "id": "f8f64767",
   "metadata": {},
   "outputs": [],
   "source": [
    "#write the data in that file again\n",
    "\n",
    "with open (r\"C:\\Users\\hp\\Desktop\\example.txt\",'w') as file:\n",
    "    file.write(filedata)"
   ]
  },
  {
   "cell_type": "markdown",
   "id": "6b90f436",
   "metadata": {},
   "source": [
    "<b>Abstract class</b>:\n",
    "Abstract class is a blueprint that can be referred by other classes, It helps us to create a dummy structure that should be followed by all the child classes inheriting  that abstract class. \n",
    "\n",
    "A class is called an abstract class if it has abstract methods\n",
    "\n",
    "<b>Abstract methods</b> are those methods that are declared inside of a class but defined later in the child classes.\n",
    "\n",
    "Please note-\n",
    " A python abstract class should not be instantiate\n",
    " \n",
    " abc=abstract meta class"
   ]
  },
  {
   "cell_type": "code",
   "execution_count": 29,
   "id": "0ec65819",
   "metadata": {},
   "outputs": [
    {
     "name": "stdout",
     "output_type": "stream",
     "text": [
      "meow\n",
      "woof\n"
     ]
    }
   ],
   "source": [
    "from abc import abstractmethod\n",
    "\n",
    "class Animal:\n",
    "    \n",
    "    @abstractmethod   \n",
    "    def animal_speaks(self):\n",
    "        pass\n",
    "\n",
    "class Dog(Animal):\n",
    "    \n",
    "    def animal_speaks(self):\n",
    "        return ('woof')\n",
    "    \n",
    "class Cat(Animal):\n",
    "    \n",
    "    def animal_speaks(self):\n",
    "        return ('meow')\n",
    "    \n",
    "cat1=Cat()\n",
    "print(cat1.animal_speaks())\n",
    "\n",
    "dog1=Dog()\n",
    "print(dog1.animal_speaks())\n",
    "\n",
    "    "
   ]
  },
  {
   "cell_type": "code",
   "execution_count": null,
   "id": "b7873612",
   "metadata": {},
   "outputs": [],
   "source": []
  },
  {
   "cell_type": "markdown",
   "id": "b3de72a4",
   "metadata": {},
   "source": [
    "Multiple Inheritance:\n",
    "\n",
    "If a class is derived from two or more base classes then it is called as multiple inheritance\n"
   ]
  },
  {
   "cell_type": "code",
   "execution_count": 31,
   "id": "3260776b",
   "metadata": {},
   "outputs": [
    {
     "name": "stdout",
     "output_type": "stream",
     "text": [
      "Buying a camera\n",
      "Customer Review\n"
     ]
    }
   ],
   "source": [
    "class Phone:\n",
    "    def __init__(self,price,brand,camera):\n",
    "        self.__price=price\n",
    "        self.brand=brand\n",
    "        self.camera=camera\n",
    "        \n",
    "    def buy (self):\n",
    "        print(\"Buying a camera\")\n",
    "    \n",
    "    def returnphone(self):\n",
    "        print(\"returning phone\")\n",
    "        \n",
    "class Product:\n",
    "    def review(self):\n",
    "        print(\"Customer Review\")\n",
    "        \n",
    "class SmartPhone(Phone,Product):\n",
    "    pass\n",
    "\n",
    "s=SmartPhone(\"30000\",\"Apple\",\"12\")\n",
    "\n",
    "s.buy()\n",
    "s.review()\n"
   ]
  },
  {
   "cell_type": "markdown",
   "id": "0e613364",
   "metadata": {},
   "source": [
    "Python Decorators:\n",
    "\n",
    "As the name suggests decorators decorate your original function. Meaning it adds extra functionality to your function without changing actual behaviour of the function.\n",
    "\n",
    "It allows to reduce the duplicate lines in code\n",
    "\n",
    "It wraps your function into another function\n",
    "\n"
   ]
  },
  {
   "cell_type": "code",
   "execution_count": null,
   "id": "ccb43afb",
   "metadata": {},
   "outputs": [],
   "source": []
  },
  {
   "cell_type": "code",
   "execution_count": 33,
   "id": "440e2aa8",
   "metadata": {},
   "outputs": [
    {
     "name": "stdout",
     "output_type": "stream",
     "text": [
      "calc_square took0.0milli seconds\n",
      "calc_cube took0.0milli seconds\n"
     ]
    }
   ],
   "source": [
    "#initial code:\n",
    "\n",
    "import time\n",
    "\n",
    "def calc_square(numbers):\n",
    "    start = time.time()\n",
    "    result=[]\n",
    "    \n",
    "    for number in numbers:\n",
    "        result.append(number*number)\n",
    "    \n",
    "    end = time.time()\n",
    "    print(\"calc_square took\" + str((end-start)*1000)+ \"milli seconds\")\n",
    "    return result\n",
    "\n",
    "\n",
    "\n",
    "def calc_cube(numbers):\n",
    "    start = time.time()\n",
    "    result=[]\n",
    "    \n",
    "    for number in numbers:\n",
    "        result.append(number*number*number)\n",
    "    \n",
    "    end = time.time()\n",
    "    print(\"calc_cube took\" + str((end-start)*1000)+ \"milli seconds\")\n",
    "    return result\n",
    "\n",
    "array=range(1,1000)\n",
    "output_square=calc_square(array)\n",
    "output_cube=calc_cube(array)"
   ]
  },
  {
   "cell_type": "code",
   "execution_count": 35,
   "id": "062752df",
   "metadata": {},
   "outputs": [
    {
     "name": "stdout",
     "output_type": "stream",
     "text": [
      "calc_square  took 0.0 milliseconds \n",
      "calc_cube  took 0.0 milliseconds \n"
     ]
    }
   ],
   "source": [
    "#code after decorators\n",
    "\n",
    "#define your wrapper function\n",
    "\n",
    "def time_it(func):\n",
    "    def wrapper(*args,**kwargs):\n",
    "        start=time.time()\n",
    "        result= func(*args,**kwargs)\n",
    "        end=time.time()\n",
    "        print(func.__name__ + \"  took \" + str((end-start)*1000)+ \" milliseconds \" )\n",
    "        return result\n",
    "    \n",
    "    return wrapper\n",
    "\n",
    "\n",
    "import time\n",
    "\n",
    "@time_it\n",
    "def calc_square(numbers):\n",
    "    result=[]\n",
    "    \n",
    "    for number in numbers:\n",
    "        result.append(number*number)\n",
    "\n",
    "    return result\n",
    "\n",
    "\n",
    "@time_it\n",
    "def calc_cube(numbers):\n",
    "    result=[]\n",
    "    \n",
    "    for number in numbers:\n",
    "        result.append(number*number*number)\n",
    "        \n",
    "    return result\n",
    "\n",
    "array=range(1,1000)\n",
    "output_square=calc_square(array)\n",
    "output_cube=calc_cube(array)\n",
    "\n"
   ]
  },
  {
   "cell_type": "code",
   "execution_count": null,
   "id": "eb59d623",
   "metadata": {},
   "outputs": [],
   "source": []
  },
  {
   "cell_type": "code",
   "execution_count": null,
   "id": "372e444a",
   "metadata": {},
   "outputs": [],
   "source": []
  },
  {
   "cell_type": "code",
   "execution_count": null,
   "id": "931763f0",
   "metadata": {},
   "outputs": [],
   "source": []
  }
 ],
 "metadata": {
  "kernelspec": {
   "display_name": "Python 3 (ipykernel)",
   "language": "python",
   "name": "python3"
  },
  "language_info": {
   "codemirror_mode": {
    "name": "ipython",
    "version": 3
   },
   "file_extension": ".py",
   "mimetype": "text/x-python",
   "name": "python",
   "nbconvert_exporter": "python",
   "pygments_lexer": "ipython3",
   "version": "3.9.7"
  }
 },
 "nbformat": 4,
 "nbformat_minor": 5
}
